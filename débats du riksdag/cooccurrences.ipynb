{
 "cells": [
  {
   "cell_type": "markdown",
   "metadata": {},
   "source": [
    "# **Études de cooccurrences de mots**\n",
    "Auteur : PM Nugues\n",
    "\n",
    "Une petite analyse des cooccurrences des racines *priv* et *publi[ck]* dans les débats du riksdag au XVI<sup>e</sup>, XVII<sup>e</sup> et XVIII<sup>e</sup> siècles. On peut appliquer ce programme à n'importe quelle séquence de caractères. Il suffit de changer quelques paramètres."
   ]
  },
  {
   "cell_type": "markdown",
   "metadata": {},
   "source": [
    "# Préliminaires"
   ]
  },
  {
   "cell_type": "markdown",
   "metadata": {},
   "source": [
    "Les modules nécessaires"
   ]
  },
  {
   "cell_type": "code",
   "execution_count": null,
   "metadata": {},
   "outputs": [],
   "source": [
    "import operator\n",
    "import regex as re\n",
    "import sys\n",
    "from math import log, sqrt\n",
    "from bs4 import BeautifulSoup\n",
    "from tqdm import tqdm\n",
    "from os import listdir"
   ]
  },
  {
   "cell_type": "markdown",
   "metadata": {},
   "source": [
    "# Lecture des fichers XML et extraction des textes"
   ]
  },
  {
   "cell_type": "markdown",
   "metadata": {},
   "source": [
    "## Liste des fichiers"
   ]
  },
  {
   "cell_type": "markdown",
   "metadata": {},
   "source": [
    "On extrait la liste des fichers de débats. Les fichiers sont rassemblés pas décénnie."
   ]
  },
  {
   "cell_type": "code",
   "execution_count": null,
   "metadata": {},
   "outputs": [],
   "source": [
    "dossiers = ['1520-40', '1540-60', '1560-80', '1580-1600','1600-1620', '1620-40', '1640-60', '1660-80', '1680-1700',\n",
    "           '1700-1720', '1720-40']\n",
    "dossiers = ['Riksdagstryck/' + dossier + '/' for dossier in dossiers]\n",
    "dossiers"
   ]
  },
  {
   "cell_type": "code",
   "execution_count": null,
   "metadata": {},
   "outputs": [],
   "source": [
    "fichiers_par_décénnie = [listdir(dossier) for dossier in dossiers]\n",
    "fichiers_par_décénnie2 = []\n",
    "fichiers_tous = []\n",
    "for i in range(len(dossiers)):\n",
    "    fichiers_par_décénnie2 += [[dossiers[i] + fichiers for fichiers in fichiers_par_décénnie[i]]]\n",
    "    fichiers_tous += [dossiers[i] + fichiers for fichiers in fichiers_par_décénnie[i]]\n",
    "fichiers_par_décénnie2"
   ]
  },
  {
   "cell_type": "markdown",
   "metadata": {},
   "source": [
    "## Lecture des fichiers"
   ]
  },
  {
   "cell_type": "markdown",
   "metadata": {},
   "source": [
    "On fait l'analyse syntaxique du code XML de chaque fichier"
   ]
  },
  {
   "cell_type": "code",
   "execution_count": null,
   "metadata": {},
   "outputs": [],
   "source": [
    "soups = []\n",
    "for fichiers in fichiers_par_décénnie2:\n",
    "    mini_soup = []\n",
    "    for fichier in fichiers:\n",
    "        print(fichier)\n",
    "        with open(fichier, 'r', encoding='utf8') as infile:\n",
    "            corpus_xml = infile.read()[1:]\n",
    "        soup = BeautifulSoup(corpus_xml, 'xml')\n",
    "        mini_soup += soup\n",
    "    soups += [mini_soup]"
   ]
  },
  {
   "cell_type": "markdown",
   "metadata": {},
   "source": [
    "On vérifie le nombre de décénnies"
   ]
  },
  {
   "cell_type": "code",
   "execution_count": null,
   "metadata": {},
   "outputs": [],
   "source": [
    "len(soups)"
   ]
  },
  {
   "cell_type": "markdown",
   "metadata": {},
   "source": [
    "On concatène les lignes de chaque fichier de sorte qu'il n'y ait qu'une ligne de texte par fichier"
   ]
  },
  {
   "cell_type": "code",
   "execution_count": null,
   "metadata": {},
   "outputs": [],
   "source": [
    "textes = []\n",
    "cnt = 0\n",
    "print('Nom du fichier et nombre de lignes')\n",
    "for mini_soups in soups:\n",
    "    textes_par_décénnie = []\n",
    "    for soup in mini_soups:\n",
    "        lines = soup.find_all('line')\n",
    "        print(fichiers_tous[cnt], ':', len(lines))\n",
    "        cnt += 1\n",
    "        texte = ''\n",
    "        for line in lines:\n",
    "            texte = texte + line.get_text() + '\\n'\n",
    "        #textes_par_décénnie += texte\n",
    "        textes_par_décénnie += [texte]\n",
    "    textes += [textes_par_décénnie]"
   ]
  },
  {
   "cell_type": "markdown",
   "metadata": {},
   "source": [
    "On vérifie le nombre de textes"
   ]
  },
  {
   "cell_type": "code",
   "execution_count": null,
   "metadata": {},
   "outputs": [],
   "source": [
    "len(textes)"
   ]
  },
  {
   "cell_type": "markdown",
   "metadata": {},
   "source": [
    "Nombre de textes par décénnie"
   ]
  },
  {
   "cell_type": "code",
   "execution_count": null,
   "metadata": {},
   "outputs": [],
   "source": [
    "list(map(len, textes))"
   ]
  },
  {
   "cell_type": "markdown",
   "metadata": {},
   "source": [
    "# Concordances"
   ]
  },
  {
   "cell_type": "markdown",
   "metadata": {},
   "source": [
    "Les séquences de caractères à rechercher et le contexte de la concordance"
   ]
  },
  {
   "cell_type": "markdown",
   "metadata": {},
   "source": [
    "On fixe le choix à *priv* et *publi[ck]*. On peut les remplacer par n'importe quelle séquence"
   ]
  },
  {
   "cell_type": "code",
   "execution_count": null,
   "metadata": {},
   "outputs": [],
   "source": [
    "PRIVAT = False"
   ]
  },
  {
   "cell_type": "code",
   "execution_count": null,
   "metadata": {},
   "outputs": [],
   "source": [
    "if PRIVAT:\n",
    "    chaîne = 'privat'\n",
    "else:\n",
    "    chaîne = 'publi[kc]'\n",
    "contexte = 25"
   ]
  },
  {
   "cell_type": "code",
   "execution_count": null,
   "metadata": {},
   "outputs": [],
   "source": [
    "chaîne = re.sub(' ', '\\\\s+', chaîne)"
   ]
  },
  {
   "cell_type": "code",
   "execution_count": null,
   "metadata": {},
   "outputs": [],
   "source": [
    "for i, décénnie in enumerate(textes):\n",
    "    print('===DÉCÉNNIE===', i + 1)\n",
    "    for i, texte in enumerate(décénnie):\n",
    "        print(fichiers[i], ':')\n",
    "        texte = re.sub('\\s+', ' ', texte.lower())\n",
    "        concordance = ('(.{{0,{width}}}{pattern}.{{0,{width}}})'\n",
    "                       .format(pattern=chaîne, width=contexte))\n",
    "        for match in re.finditer(concordance, texte):\n",
    "            print('  ', match.group(1))"
   ]
  },
  {
   "cell_type": "markdown",
   "metadata": {},
   "source": [
    "# Cooccurrences"
   ]
  },
  {
   "cell_type": "markdown",
   "metadata": {},
   "source": [
    "## Mots vides"
   ]
  },
  {
   "cell_type": "markdown",
   "metadata": {},
   "source": [
    "On définit une liste de mots vides. On ne l'utilise pas dans le reste du programme"
   ]
  },
  {
   "cell_type": "code",
   "execution_count": null,
   "metadata": {},
   "outputs": [],
   "source": [
    "mots_vides = ['och', 'den', 'också', 'för']"
   ]
  },
  {
   "cell_type": "markdown",
   "metadata": {},
   "source": [
    "## Fonctions de comptage des mots et des bigrammes"
   ]
  },
  {
   "cell_type": "markdown",
   "metadata": {},
   "source": [
    "On définit les fonctions de comptage. Elles sont tirées de l'édition à venir de mon livre."
   ]
  },
  {
   "cell_type": "code",
   "execution_count": null,
   "metadata": {},
   "outputs": [],
   "source": [
    "def découpe_mots(texte):\n",
    "    mots = re.findall(\"\\p{L}+|\\p{N}+\", texte)\n",
    "    return mots\n",
    "\n",
    "\n",
    "\"\"\"def découpe_mots(texte):\n",
    "    mots = re.split('[\\s\\-,;:!?.’\\'«»()–...&‘’“”*—]+', texte)\n",
    "    mots.remove('')\n",
    "    return mots\"\"\"\n",
    "\n",
    "\n",
    "def compte_mots(mots):\n",
    "    c_mots = {}\n",
    "    for mot in mots:\n",
    "        c_mots[mot] = c_mots.get(mot, 0) + 1\n",
    "    return c_mots\n",
    "\n",
    "\n",
    "def compte_bigrammes(mots):\n",
    "    c_bigrammes = {}\n",
    "    for i in range(len(mots) - 1):\n",
    "        bigramme = (mots[i], mots[i + 1])\n",
    "        c_bigrammes[bigramme] = c_bigrammes.get(bigramme, 0) + 1\n",
    "    return c_bigrammes\n",
    "\n",
    "\n",
    "def compte_bigrammes_fen(mots, fen=5):\n",
    "    c_bigrammes_fen = {}\n",
    "    for inx in range(1, fen + 1):\n",
    "        for i in range(len(mots) - inx):\n",
    "            bigramme = (mots[i], mots[i + inx])\n",
    "            c_bigrammes_fen[bigramme] = c_bigrammes_fen.get(bigramme, 0) + 1\n",
    "    return c_bigrammes_fen"
   ]
  },
  {
   "cell_type": "markdown",
   "metadata": {},
   "source": [
    "On concatène les textes par décénnie. Pour chaque décénnie, on aura donc une ligne de texte"
   ]
  },
  {
   "cell_type": "code",
   "execution_count": null,
   "metadata": {},
   "outputs": [],
   "source": [
    "textes = [' '.join(décénnie) for décénnie in textes]"
   ]
  },
  {
   "cell_type": "markdown",
   "metadata": {},
   "source": [
    "## Les mots"
   ]
  },
  {
   "cell_type": "markdown",
   "metadata": {},
   "source": [
    "On compte les mots"
   ]
  },
  {
   "cell_type": "code",
   "execution_count": null,
   "metadata": {},
   "outputs": [],
   "source": [
    "c_mots_ordonnés_par_corpus = []\n",
    "c_mots_par_corpus = []\n",
    "textes_découpés = []\n",
    "total_mots_par_corpus = []\n",
    "for i, texte in enumerate(textes):\n",
    "    #print(fichiers[i], ':')\n",
    "    print('===DÉCÉNNIE===', i + 1)\n",
    "    texte = texte.lower()\n",
    "    texte_découpé = découpe_mots(texte)\n",
    "    total_mots_par_corpus += [len(texte_découpé)]\n",
    "    textes_découpés += [texte_découpé]\n",
    "    # print(mots)\n",
    "    c_mots = compte_mots(texte_découpé)\n",
    "    c_mots_par_corpus += [c_mots]\n",
    "    c_mots_ordonnés = sorted(c_mots.items(), key=operator.itemgetter(1), reverse=True)\n",
    "    c_mots_ordonnés_par_corpus += [c_mots_ordonnés]\n",
    "    print('  ', c_mots_ordonnés[:10])\n",
    "print('Nombre total de mots:', total_mots_par_corpus)"
   ]
  },
  {
   "cell_type": "markdown",
   "metadata": {},
   "source": [
    "On filtre les mots qui contiennent la séquence de caractères"
   ]
  },
  {
   "cell_type": "code",
   "execution_count": null,
   "metadata": {},
   "outputs": [],
   "source": [
    "occurrences_chaîne = []\n",
    "for i, c_mots_ordonnés in enumerate(c_mots_ordonnés_par_corpus):\n",
    "    print('===DÉCÉNNIE===', i + 1)\n",
    "    #print(fichiers[i], ':')\n",
    "    occurrences_chaîne_1 = list(filter(lambda x: re.search(chaîne, x[0]), \n",
    "                      c_mots_ordonnés))\n",
    "    occurrences_chaîne += [occurrences_chaîne_1]\n",
    "    print(' ', list(filter(lambda x: re.search(chaîne, x[0]), \n",
    "                      c_mots_ordonnés)))"
   ]
  },
  {
   "cell_type": "markdown",
   "metadata": {},
   "source": [
    "### Fréquence absolue de la séquence"
   ]
  },
  {
   "cell_type": "code",
   "execution_count": null,
   "metadata": {},
   "outputs": [],
   "source": [
    "occurrences_chaîne"
   ]
  },
  {
   "cell_type": "markdown",
   "metadata": {},
   "source": [
    "### Fréquence relative de la séquence par décénnie"
   ]
  },
  {
   "cell_type": "code",
   "execution_count": null,
   "metadata": {},
   "outputs": [],
   "source": [
    "for i in range(len(total_mots_par_corpus)):\n",
    "    print(sum([x[1] for x in occurrences_chaîne[i]])/total_mots_par_corpus[i])"
   ]
  },
  {
   "cell_type": "markdown",
   "metadata": {},
   "source": [
    "## Les bigrammes"
   ]
  },
  {
   "cell_type": "markdown",
   "metadata": {},
   "source": [
    "On compte les bigrammes et on les ordonne par fréquence"
   ]
  },
  {
   "cell_type": "code",
   "execution_count": null,
   "metadata": {},
   "outputs": [],
   "source": [
    "c_bigrammes_ordonnés_par_corpus = []\n",
    "c_bigrammes_par_corpus = []\n",
    "for i, texte_découpé in enumerate(textes_découpés):\n",
    "    print('===DÉCÉNNIE===', i + 1)\n",
    "    # print(fichiers[i], ':')\n",
    "    c_bigrammes = compte_bigrammes(texte_découpé)\n",
    "    c_bigrammes_par_corpus += [c_bigrammes]\n",
    "    c_bigrammes_ordonnés = sorted(c_bigrammes.items(), \n",
    "                                  key=operator.itemgetter(1), reverse=True)\n",
    "    c_bigrammes_ordonnés_par_corpus += [c_bigrammes_ordonnés]\n",
    "    print('  ', c_bigrammes_ordonnés[:15])"
   ]
  },
  {
   "cell_type": "markdown",
   "metadata": {},
   "source": [
    "Les bigrammes qui contienne la séquence de caractères"
   ]
  },
  {
   "cell_type": "code",
   "execution_count": null,
   "metadata": {},
   "outputs": [],
   "source": [
    "for i, c_bigrammes_ordonnés in enumerate(c_bigrammes_ordonnés_par_corpus):\n",
    "    # print(fichiers[i], ':')\n",
    "    print('===DÉCÉNNIE===', i + 1)\n",
    "    print(' ', list(filter(lambda x: re.search(chaîne, x[0][0]) or \n",
    "                           re.search(chaîne, x[0][1]), \n",
    "                      c_bigrammes_ordonnés)))"
   ]
  },
  {
   "cell_type": "markdown",
   "metadata": {},
   "source": [
    "Les bigrammes avec une fenêtre. On considère maintenant le contexte à droite et à gauche du mot"
   ]
  },
  {
   "cell_type": "markdown",
   "metadata": {},
   "source": [
    "Les bigrammes les plus fréquents"
   ]
  },
  {
   "cell_type": "code",
   "execution_count": null,
   "metadata": {},
   "outputs": [],
   "source": [
    "c_bigrammes_fen_ordonnés_par_corpus = []\n",
    "for i, texte_découpé in enumerate(textes_découpés):\n",
    "    # print(fichiers[i], ':')\n",
    "    print('===DÉCÉNNIE===', i + 1)\n",
    "    c_bigrammes_fen = compte_bigrammes_fen(texte_découpé)\n",
    "    c_bigrammes_fen_ordonnés = sorted(c_bigrammes_fen.items(), \n",
    "                              key=operator.itemgetter(1), reverse=True)\n",
    "    c_bigrammes_fen_ordonnés_par_corpus += [c_bigrammes_fen_ordonnés]\n",
    "    print(c_bigrammes_fen_ordonnés[:10])"
   ]
  },
  {
   "cell_type": "markdown",
   "metadata": {},
   "source": [
    "Les bgrammes avec la séquence de caractères recherchée"
   ]
  },
  {
   "cell_type": "code",
   "execution_count": null,
   "metadata": {},
   "outputs": [],
   "source": [
    "for i, c_bigrammes_fen_ordonnés in enumerate(c_bigrammes_fen_ordonnés_par_corpus):\n",
    "    #print(fichiers[i], ':')\n",
    "    print('===DÉCÉNNIE===', i + 1)\n",
    "    print(list(filter(lambda x: re.search(chaîne, x[0][0]) or \n",
    "                      re.search(chaîne, x[0][1]), \n",
    "                      c_bigrammes_fen_ordonnés)))"
   ]
  },
  {
   "cell_type": "markdown",
   "metadata": {},
   "source": [
    "# Mesures de cooccurrence"
   ]
  },
  {
   "cell_type": "markdown",
   "metadata": {},
   "source": [
    "On applique maintenant trois mesures de cooccurrence:\n",
    "* l'information mutuelle de Fano\n",
    "* les t-scores\n",
    "* le rapport de vraisemblance"
   ]
  },
  {
   "cell_type": "markdown",
   "metadata": {},
   "source": [
    "## Information mutuelle"
   ]
  },
  {
   "cell_type": "markdown",
   "metadata": {},
   "source": [
    "Définition de l'information mutuelle"
   ]
  },
  {
   "cell_type": "code",
   "execution_count": null,
   "metadata": {},
   "outputs": [],
   "source": [
    "def info_mutuelle(c_mots, c_bigrammes, taille):\n",
    "    c_info_mutuelle = {}\n",
    "    for bigramme in c_bigrammes.keys():\n",
    "        c_info_mutuelle[bigramme] = log(taille * c_bigrammes[bigramme] / \n",
    "                                        (c_mots[bigramme[0]] * c_mots[bigramme[1]]), 2.0)\n",
    "    return c_info_mutuelle"
   ]
  },
  {
   "cell_type": "markdown",
   "metadata": {},
   "source": [
    "On ordonne les bigrammes par valeur d'information mutuelle décroissante"
   ]
  },
  {
   "cell_type": "code",
   "execution_count": null,
   "metadata": {},
   "outputs": [],
   "source": [
    "c_info_mutuelle_ordonnée_par_corpus = []\n",
    "c_info_mutuelle_par_corpus = []\n",
    "for i, texte_découpé, c_mots, c_bigrammes in zip(range(len(textes)), \n",
    "                                  textes_découpés,\n",
    "                                  c_mots_par_corpus, \n",
    "                                  c_bigrammes_par_corpus):\n",
    "    #print(fichiers[i])\n",
    "    print('===DÉCÉNNIE===', i + 1)\n",
    "    c_info_mutuelle = info_mutuelle(c_mots, c_bigrammes, len(texte_découpé))\n",
    "    c_info_mutuelle_par_corpus += [c_info_mutuelle]\n",
    "    c_info_mutuelle_ordonnée = sorted(c_info_mutuelle.items(), \n",
    "                                      key=operator.itemgetter(1), reverse=True)\n",
    "    print('  ', c_info_mutuelle_ordonnée[:10])\n",
    "    c_info_mutuelle_ordonnée_par_corpus += [c_info_mutuelle_ordonnée]"
   ]
  },
  {
   "cell_type": "markdown",
   "metadata": {},
   "source": [
    "L'information mutuelle des mots plus fréquents avec un seuil. Le seuil est assez haut pour le pas avoir trop d'affichages"
   ]
  },
  {
   "cell_type": "code",
   "execution_count": null,
   "metadata": {},
   "outputs": [],
   "source": [
    "seuil = 200\n",
    "for i, c_mots, c_bigrammes, c_info_mutuelle, c_info_mutuelle_ordonnée in zip(\n",
    "    range(len(textes)),\n",
    "    c_mots_par_corpus,\n",
    "    c_bigrammes_par_corpus,\n",
    "    c_info_mutuelle_par_corpus,\n",
    "    c_info_mutuelle_ordonnée_par_corpus):\n",
    "    #print(fichiers[i])\n",
    "    print('===DÉCÉNNIE===', i + 1)\n",
    "    for bigramme_im in c_info_mutuelle_ordonnée:\n",
    "        if c_bigrammes[bigramme_im[0]] >= seuil:\n",
    "            #mots_du_bigramme = bigramme_im[0].split()\n",
    "            print('  ', c_info_mutuelle[bigramme_im[0]], \"\\t\", \n",
    "                  bigramme_im[0], \"\\t\", c_bigrammes[bigramme_im[0]], \"\\t\",\n",
    "                  c_mots[bigramme_im[0][0]], \"\\t\", c_mots[bigramme_im[0][1]])"
   ]
  },
  {
   "cell_type": "markdown",
   "metadata": {},
   "source": [
    "Les bigrammes avec la séquence qu'on recherche ordonnés par information mutuelle "
   ]
  },
  {
   "cell_type": "code",
   "execution_count": null,
   "metadata": {},
   "outputs": [],
   "source": [
    "for i, corpus in enumerate(c_info_mutuelle_ordonnée_par_corpus):\n",
    "    print('===DÉCÉNNIE===', i + 1)\n",
    "    print(list(filter(lambda x: re.search(chaîne, x[0][0]) or re.search(chaîne, x[0][1]), corpus)))"
   ]
  },
  {
   "cell_type": "markdown",
   "metadata": {},
   "source": [
    "## t-scores"
   ]
  },
  {
   "cell_type": "markdown",
   "metadata": {},
   "source": [
    "Définition des t-scores"
   ]
  },
  {
   "cell_type": "code",
   "execution_count": null,
   "metadata": {},
   "outputs": [],
   "source": [
    "def t_scores(words, freq_unigrams, freq_bigrams):\n",
    "    ts = {}\n",
    "    for bigram in freq_bigrams:\n",
    "        ts[bigram] = ((freq_bigrams[bigram] -\n",
    "                      freq_unigrams[bigram[0]] *\n",
    "                      freq_unigrams[bigram[1]] /\n",
    "                      len(words)) /\n",
    "                      sqrt(freq_bigrams[bigram]))\n",
    "    return ts"
   ]
  },
  {
   "cell_type": "markdown",
   "metadata": {},
   "source": [
    "On calcule les t-scores et on affiche les plus hauts"
   ]
  },
  {
   "cell_type": "code",
   "execution_count": null,
   "metadata": {},
   "outputs": [],
   "source": [
    "c_t_scores_ordonnée_par_corpus = []\n",
    "c_t_scores_par_corpus = []\n",
    "for i, texte_découpé, c_mots, c_bigrammes in zip(range(len(textes)), \n",
    "                                  textes_découpés,\n",
    "                                  c_mots_par_corpus, \n",
    "                                  c_bigrammes_par_corpus):\n",
    "    # print(fichiers[i])\n",
    "    print('===DÉCÉNNIE===', i + 1)\n",
    "    c_t_scores = t_scores(texte_découpé, c_mots, c_bigrammes)\n",
    "    c_t_scores_par_corpus += [c_t_scores]\n",
    "    c_t_scores_ordonnée = sorted(c_t_scores.items(), \n",
    "                                      key=operator.itemgetter(1), reverse=True)\n",
    "    print('  ', c_t_scores_ordonnée[:10])\n",
    "    c_t_scores_ordonnée_par_corpus += [c_t_scores_ordonnée]"
   ]
  },
  {
   "cell_type": "markdown",
   "metadata": {},
   "source": [
    "Les bigrammes avec la séquence qu'on recherche ordonnés par t-scores "
   ]
  },
  {
   "cell_type": "code",
   "execution_count": null,
   "metadata": {},
   "outputs": [],
   "source": [
    "for i, corpus in enumerate(c_t_scores_ordonnée_par_corpus):\n",
    "    print('===DÉCÉNNIE===', i + 1)\n",
    "    print(list(filter(lambda x: re.search(chaîne, x[0][0]) or re.search(chaîne, x[0][1]), corpus)))"
   ]
  },
  {
   "cell_type": "markdown",
   "metadata": {},
   "source": [
    "## Log du rapport de vraisemblance (log-likelihood-ration)"
   ]
  },
  {
   "cell_type": "markdown",
   "metadata": {},
   "source": [
    "Définition du rapport de vraisemblance"
   ]
  },
  {
   "cell_type": "code",
   "execution_count": null,
   "metadata": {},
   "outputs": [],
   "source": [
    "def likelihood_ratio(words, freq_unigrams, freq_bigrams):\n",
    "    lr = {}\n",
    "    for bigram in freq_bigrams:\n",
    "        p = freq_unigrams[bigram[1]] / len(words)\n",
    "        p1 = freq_bigrams[bigram] / freq_unigrams[bigram[0]]\n",
    "        p2 = ((freq_unigrams[bigram[1]] - freq_bigrams[bigram])\n",
    "              / (len(words) - freq_unigrams[bigram[0]]))\n",
    "        if p1 != 1.0 and p2 != 0.0:\n",
    "            lr[bigram] = 2.0 * (\n",
    "                log_f(freq_bigrams[bigram],\n",
    "                      freq_unigrams[bigram[0]], p1) +\n",
    "                log_f(freq_unigrams[bigram[1]] -\n",
    "                      freq_bigrams[bigram],\n",
    "                      len(words) - freq_unigrams[bigram[0]], p2) -\n",
    "                log_f(freq_bigrams[bigram],\n",
    "                      freq_unigrams[bigram[0]], p) -\n",
    "                log_f(freq_unigrams[bigram[1]] -\n",
    "                      freq_bigrams[bigram],\n",
    "                      len(words) - freq_unigrams[bigram[0]], p))\n",
    "    return lr"
   ]
  },
  {
   "cell_type": "code",
   "execution_count": null,
   "metadata": {},
   "outputs": [],
   "source": [
    "def log_f(k, N, p):\n",
    "    return k * log(p) + (N - k) * log(1 - p)"
   ]
  },
  {
   "cell_type": "markdown",
   "metadata": {},
   "source": [
    "On le calcule"
   ]
  },
  {
   "cell_type": "code",
   "execution_count": null,
   "metadata": {},
   "outputs": [],
   "source": [
    "c_lr_ordonné_par_corpus = []\n",
    "c_lr_par_corpus = []\n",
    "for i, texte_découpé, c_mots, c_bigrammes in zip(range(len(textes)), \n",
    "                                  textes_découpés,\n",
    "                                  c_mots_par_corpus, \n",
    "                                  c_bigrammes_par_corpus):\n",
    "    #print(fichiers[i])\n",
    "    print('===DÉCÉNNIE===', i + 1)\n",
    "    c_lr = likelihood_ratio(texte_découpé, c_mots, c_bigrammes)\n",
    "    c_lr_par_corpus += [c_lr]\n",
    "    c_lr_ordonné = sorted(c_lr.items(), \n",
    "                                      key=operator.itemgetter(1), reverse=True)\n",
    "    print('  ', c_lr_ordonné[:10])\n",
    "    c_lr_ordonné_par_corpus += [c_lr_ordonné]"
   ]
  },
  {
   "cell_type": "markdown",
   "metadata": {},
   "source": [
    "Les bigrammes avec la séquence qu'on recherche ordonnés par rapports de vraisemblance"
   ]
  },
  {
   "cell_type": "code",
   "execution_count": null,
   "metadata": {},
   "outputs": [],
   "source": [
    "for i, corpus in enumerate(c_lr_ordonné_par_corpus):\n",
    "    print('===DÉCÉNNIE===', i + 1)\n",
    "    print(list(filter(lambda x: re.search(chaîne, x[0][0]) or re.search(chaîne, x[0][1]), corpus)))"
   ]
  },
  {
   "cell_type": "code",
   "execution_count": null,
   "metadata": {},
   "outputs": [],
   "source": []
  }
 ],
 "metadata": {
  "kernelspec": {
   "display_name": "Python 3",
   "language": "python",
   "name": "python3"
  },
  "language_info": {
   "codemirror_mode": {
    "name": "ipython",
    "version": 3
   },
   "file_extension": ".py",
   "mimetype": "text/x-python",
   "name": "python",
   "nbconvert_exporter": "python",
   "pygments_lexer": "ipython3",
   "version": "3.7.7"
  }
 },
 "nbformat": 4,
 "nbformat_minor": 4
}

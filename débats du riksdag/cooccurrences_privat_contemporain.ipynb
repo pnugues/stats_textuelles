{
 "cells": [
  {
   "cell_type": "markdown",
   "metadata": {},
   "source": [
    "# **Études de cooccurrences de mots**\n",
    "Auteur : PM Nugues\n",
    "\n",
    "Une petite analyse des cooccurrences des racines *priv* et *publi[ck]* dans les débats du riksdag au XVI<sup>e</sup>, XVII<sup>e</sup> et XVIII<sup>e</sup> siècles. On peut appliquer ce programme à n'importe quelle séquence de caractères. Il suffit de changer quelques paramètres."
   ]
  },
  {
   "cell_type": "markdown",
   "metadata": {},
   "source": [
    "# Préliminaires"
   ]
  },
  {
   "cell_type": "markdown",
   "metadata": {},
   "source": [
    "Les modules nécessaires"
   ]
  },
  {
   "cell_type": "code",
   "execution_count": 1,
   "metadata": {},
   "outputs": [],
   "source": [
    "import operator\n",
    "import regex as re\n",
    "import sys\n",
    "from math import log, sqrt\n",
    "from bs4 import BeautifulSoup\n",
    "from tqdm import tqdm\n",
    "from os import listdir"
   ]
  },
  {
   "cell_type": "markdown",
   "metadata": {},
   "source": [
    "# Lecture des fichers XML et extraction des textes"
   ]
  },
  {
   "cell_type": "markdown",
   "metadata": {},
   "source": [
    "## Liste des fichiers"
   ]
  },
  {
   "cell_type": "markdown",
   "metadata": {},
   "source": [
    "On extrait la liste des fichers de débats. Les fichiers sont rassemblés pas décénnie."
   ]
  },
  {
   "cell_type": "code",
   "execution_count": 2,
   "metadata": {},
   "outputs": [
    {
     "data": {
      "text/plain": [
       "['Riksdagstryck/10_1-6_3 1970 andra kammaren/',\n",
       " 'Riksdagstryck/10_1-12_3 1970 första kammaren/']"
      ]
     },
     "execution_count": 2,
     "metadata": {},
     "output_type": "execute_result"
    }
   ],
   "source": [
    "dossiers = ['10_1-6_3 1970 andra kammaren', '10_1-12_3 1970 första kammaren']\n",
    "dossiers = ['Riksdagstryck/' + dossier + '/' for dossier in dossiers]\n",
    "dossiers"
   ]
  },
  {
   "cell_type": "code",
   "execution_count": 3,
   "metadata": {},
   "outputs": [
    {
     "data": {
      "text/plain": [
       "[['Riksdagstryck/10_1-6_3 1970 andra kammaren/prot_1970__ak__9.xml',\n",
       "  'Riksdagstryck/10_1-6_3 1970 andra kammaren/prot_1970__ak__8.xml',\n",
       "  'Riksdagstryck/10_1-6_3 1970 andra kammaren/prot_1970__ak__3.xml',\n",
       "  'Riksdagstryck/10_1-6_3 1970 andra kammaren/prot_1970__ak__2.xml',\n",
       "  'Riksdagstryck/10_1-6_3 1970 andra kammaren/prot_1970__ak__1.xml',\n",
       "  'Riksdagstryck/10_1-6_3 1970 andra kammaren/prot_1970__ak__5.xml',\n",
       "  'Riksdagstryck/10_1-6_3 1970 andra kammaren/prot_1970__ak__4.xml',\n",
       "  'Riksdagstryck/10_1-6_3 1970 andra kammaren/prot_1970__ak__6.xml',\n",
       "  'Riksdagstryck/10_1-6_3 1970 andra kammaren/prot_1970__ak__7.xml'],\n",
       " ['Riksdagstryck/10_1-12_3 1970 första kammaren/prot_1970__fk__10.xml',\n",
       "  'Riksdagstryck/10_1-12_3 1970 första kammaren/prot_1970__fk__1.xml',\n",
       "  'Riksdagstryck/10_1-12_3 1970 första kammaren/prot_1970__fk__2.xml',\n",
       "  'Riksdagstryck/10_1-12_3 1970 första kammaren/prot_1970__fk__3.xml',\n",
       "  'Riksdagstryck/10_1-12_3 1970 första kammaren/prot_1970__fk__7.xml',\n",
       "  'Riksdagstryck/10_1-12_3 1970 första kammaren/prot_1970__fk__6.xml',\n",
       "  'Riksdagstryck/10_1-12_3 1970 första kammaren/prot_1970__fk__4.xml',\n",
       "  'Riksdagstryck/10_1-12_3 1970 första kammaren/prot_1970__fk__5.xml',\n",
       "  'Riksdagstryck/10_1-12_3 1970 första kammaren/prot_1970__fk__8.xml',\n",
       "  'Riksdagstryck/10_1-12_3 1970 första kammaren/prot_1970__fk__9.xml']]"
      ]
     },
     "execution_count": 3,
     "metadata": {},
     "output_type": "execute_result"
    }
   ],
   "source": [
    "fichiers_par_décénnie = [listdir(dossier) for dossier in dossiers]\n",
    "fichiers_par_décénnie2 = []\n",
    "fichiers_tous = []\n",
    "for i in range(len(dossiers)):\n",
    "    fichiers_par_décénnie2 += [[dossiers[i] + fichiers for fichiers in fichiers_par_décénnie[i]]]\n",
    "    fichiers_tous += [dossiers[i] + fichiers for fichiers in fichiers_par_décénnie[i]]\n",
    "fichiers_par_décénnie2"
   ]
  },
  {
   "cell_type": "markdown",
   "metadata": {},
   "source": [
    "## Lecture des fichiers"
   ]
  },
  {
   "cell_type": "markdown",
   "metadata": {},
   "source": [
    "On fait l'analyse syntaxique du code XML de chaque fichier"
   ]
  },
  {
   "cell_type": "code",
   "execution_count": 4,
   "metadata": {},
   "outputs": [
    {
     "name": "stdout",
     "output_type": "stream",
     "text": [
      "Riksdagstryck/10_1-6_3 1970 andra kammaren/prot_1970__ak__9.xml\n",
      "Riksdagstryck/10_1-6_3 1970 andra kammaren/prot_1970__ak__8.xml\n",
      "Riksdagstryck/10_1-6_3 1970 andra kammaren/prot_1970__ak__3.xml\n",
      "Riksdagstryck/10_1-6_3 1970 andra kammaren/prot_1970__ak__2.xml\n",
      "Riksdagstryck/10_1-6_3 1970 andra kammaren/prot_1970__ak__1.xml\n",
      "Riksdagstryck/10_1-6_3 1970 andra kammaren/prot_1970__ak__5.xml\n",
      "Riksdagstryck/10_1-6_3 1970 andra kammaren/prot_1970__ak__4.xml\n",
      "Riksdagstryck/10_1-6_3 1970 andra kammaren/prot_1970__ak__6.xml\n",
      "Riksdagstryck/10_1-6_3 1970 andra kammaren/prot_1970__ak__7.xml\n",
      "Riksdagstryck/10_1-12_3 1970 första kammaren/prot_1970__fk__10.xml\n",
      "Riksdagstryck/10_1-12_3 1970 första kammaren/prot_1970__fk__1.xml\n",
      "Riksdagstryck/10_1-12_3 1970 första kammaren/prot_1970__fk__2.xml\n",
      "Riksdagstryck/10_1-12_3 1970 första kammaren/prot_1970__fk__3.xml\n",
      "Riksdagstryck/10_1-12_3 1970 första kammaren/prot_1970__fk__7.xml\n",
      "Riksdagstryck/10_1-12_3 1970 första kammaren/prot_1970__fk__6.xml\n",
      "Riksdagstryck/10_1-12_3 1970 första kammaren/prot_1970__fk__4.xml\n",
      "Riksdagstryck/10_1-12_3 1970 första kammaren/prot_1970__fk__5.xml\n",
      "Riksdagstryck/10_1-12_3 1970 första kammaren/prot_1970__fk__8.xml\n",
      "Riksdagstryck/10_1-12_3 1970 första kammaren/prot_1970__fk__9.xml\n"
     ]
    }
   ],
   "source": [
    "soups = []\n",
    "for fichiers in fichiers_par_décénnie2:\n",
    "    mini_soup = []\n",
    "    for fichier in fichiers:\n",
    "        print(fichier)\n",
    "        with open(fichier, 'r', encoding='utf8') as infile:\n",
    "            corpus_xml = infile.read()[1:]\n",
    "        soup = BeautifulSoup(corpus_xml, 'xml')\n",
    "        mini_soup += soup\n",
    "    soups += [mini_soup]"
   ]
  },
  {
   "cell_type": "markdown",
   "metadata": {},
   "source": [
    "On vérifie le nombre de décénnies"
   ]
  },
  {
   "cell_type": "code",
   "execution_count": 5,
   "metadata": {},
   "outputs": [
    {
     "data": {
      "text/plain": [
       "2"
      ]
     },
     "execution_count": 5,
     "metadata": {},
     "output_type": "execute_result"
    }
   ],
   "source": [
    "len(soups)"
   ]
  },
  {
   "cell_type": "markdown",
   "metadata": {},
   "source": [
    "On concatène les lignes de chaque fichier de sorte qu'il n'y ait qu'une ligne de texte par fichier"
   ]
  },
  {
   "cell_type": "code",
   "execution_count": 6,
   "metadata": {},
   "outputs": [
    {
     "name": "stdout",
     "output_type": "stream",
     "text": [
      "Nom du fichier et nombre de lignes\n",
      "Riksdagstryck/10_1-6_3 1970 andra kammaren/prot_1970__ak__9.xml : 12423\n",
      "Riksdagstryck/10_1-6_3 1970 andra kammaren/prot_1970__ak__8.xml : 9032\n",
      "Riksdagstryck/10_1-6_3 1970 andra kammaren/prot_1970__ak__3.xml : 16736\n",
      "Riksdagstryck/10_1-6_3 1970 andra kammaren/prot_1970__ak__2.xml : 14527\n",
      "Riksdagstryck/10_1-6_3 1970 andra kammaren/prot_1970__ak__1.xml : 3087\n",
      "Riksdagstryck/10_1-6_3 1970 andra kammaren/prot_1970__ak__5.xml : 3908\n",
      "Riksdagstryck/10_1-6_3 1970 andra kammaren/prot_1970__ak__4.xml : 4344\n",
      "Riksdagstryck/10_1-6_3 1970 andra kammaren/prot_1970__ak__6.xml : 1590\n",
      "Riksdagstryck/10_1-6_3 1970 andra kammaren/prot_1970__ak__7.xml : 9908\n",
      "Riksdagstryck/10_1-12_3 1970 första kammaren/prot_1970__fk__10.xml : 11865\n",
      "Riksdagstryck/10_1-12_3 1970 första kammaren/prot_1970__fk__1.xml : 1914\n",
      "Riksdagstryck/10_1-12_3 1970 första kammaren/prot_1970__fk__2.xml : 14319\n",
      "Riksdagstryck/10_1-12_3 1970 första kammaren/prot_1970__fk__3.xml : 14714\n",
      "Riksdagstryck/10_1-12_3 1970 första kammaren/prot_1970__fk__7.xml : 5362\n",
      "Riksdagstryck/10_1-12_3 1970 första kammaren/prot_1970__fk__6.xml : 729\n",
      "Riksdagstryck/10_1-12_3 1970 första kammaren/prot_1970__fk__4.xml : 3101\n",
      "Riksdagstryck/10_1-12_3 1970 första kammaren/prot_1970__fk__5.xml : 3259\n",
      "Riksdagstryck/10_1-12_3 1970 första kammaren/prot_1970__fk__8.xml : 7719\n",
      "Riksdagstryck/10_1-12_3 1970 första kammaren/prot_1970__fk__9.xml : 7784\n"
     ]
    }
   ],
   "source": [
    "textes = []\n",
    "cnt = 0\n",
    "print('Nom du fichier et nombre de lignes')\n",
    "for mini_soups in soups:\n",
    "    textes_par_décénnie = []\n",
    "    for soup in mini_soups:\n",
    "        lines = soup.find_all('line')\n",
    "        print(fichiers_tous[cnt], ':', len(lines))\n",
    "        cnt += 1\n",
    "        texte = ''\n",
    "        for line in lines:\n",
    "            texte = texte + line.get_text() + '\\n'\n",
    "        #textes_par_décénnie += texte\n",
    "        textes_par_décénnie += [texte]\n",
    "    textes += [textes_par_décénnie]"
   ]
  },
  {
   "cell_type": "markdown",
   "metadata": {},
   "source": [
    "On vérifie le nombre de textes"
   ]
  },
  {
   "cell_type": "code",
   "execution_count": 7,
   "metadata": {},
   "outputs": [
    {
     "data": {
      "text/plain": [
       "2"
      ]
     },
     "execution_count": 7,
     "metadata": {},
     "output_type": "execute_result"
    }
   ],
   "source": [
    "len(textes)"
   ]
  },
  {
   "cell_type": "markdown",
   "metadata": {},
   "source": [
    "Nombre de textes par décénnie"
   ]
  },
  {
   "cell_type": "code",
   "execution_count": 8,
   "metadata": {},
   "outputs": [
    {
     "data": {
      "text/plain": [
       "[9, 10]"
      ]
     },
     "execution_count": 8,
     "metadata": {},
     "output_type": "execute_result"
    }
   ],
   "source": [
    "list(map(len, textes))"
   ]
  },
  {
   "cell_type": "markdown",
   "metadata": {},
   "source": [
    "# Concordances"
   ]
  },
  {
   "cell_type": "markdown",
   "metadata": {},
   "source": [
    "Les séquences de caractères à rechercher et le contexte de la concordance"
   ]
  },
  {
   "cell_type": "markdown",
   "metadata": {},
   "source": [
    "On fixe le choix à *priv* et *publi(c|k|que)*. On peut les remplacer par n'importe quelle séquence"
   ]
  },
  {
   "cell_type": "code",
   "execution_count": 9,
   "metadata": {},
   "outputs": [],
   "source": [
    "PRIVAT = True"
   ]
  },
  {
   "cell_type": "code",
   "execution_count": 10,
   "metadata": {},
   "outputs": [],
   "source": [
    "if PRIVAT:\n",
    "    chaîne = 'privat'\n",
    "else:\n",
    "    chaîne = 'publi(k|c|que)'\n",
    "contexte = 25"
   ]
  },
  {
   "cell_type": "code",
   "execution_count": 11,
   "metadata": {},
   "outputs": [],
   "source": [
    "chaîne = re.sub(' ', '\\\\s+', chaîne)"
   ]
  },
  {
   "cell_type": "code",
   "execution_count": 12,
   "metadata": {},
   "outputs": [
    {
     "name": "stdout",
     "output_type": "stream",
     "text": [
      "===DÉCÉNNIE=== 1\n",
      "Riksdagstryck/10_1-12_3 1970 första kammaren/prot_1970__fk__10.xml :\n",
      "   eliga, ko¬ operativa och privata företagsformer tävlar p\n",
      "    både vad det gäller den privata och den kooperativa för\n",
      "   s. de har blivit vanliga privatkapitalister och tän¬ ker\n",
      "   ¬ göra lösningen när den privata före¬ tagsamheten missl\n",
      "   som ökat utrymme ges för privat initiativ och framåtanda\n",
      "   tidens reglering. på den privata ar¬ betsmarknaden är de\n",
      "   rågor finns redan på det privata området. den av oss mot\n",
      "   lst önskan inom vare sig privat eller koope¬ rativ hande\n",
      "Riksdagstryck/10_1-12_3 1970 första kammaren/prot_1970__fk__1.xml :\n",
      "    ren konfiskation av det privata kapitalet i jordbruksnä\n",
      "Riksdagstryck/10_1-12_3 1970 första kammaren/prot_1970__fk__2.xml :\n",
      "   t en »stark och livaktig privat sektor är ett remissdeba\n",
      "   ttats för att underlätta privat företagsamhet». jag före\n",
      "   ar varken statliga eller privata lokalise¬ ringar i någo\n",
      "   täc¬ ker kostnaderna för privatfinansiering¬ en, vilket \n",
      "   tår därför helt till det privata näringslivet. när det a\n",
      "   kare i dag har så mycket privat kapital till¬ gängligt, \n",
      "   ag som inte tar bort den privata kapitalbildningen utan \n",
      "   de samlade hos ett fåtal privatpersoner. erfarenheten sä\n",
      "Riksdagstryck/10_1-12_3 1970 första kammaren/prot_1970__fk__3.xml :\n",
      "   landa in litet vete från privat företagsamhet för att få\n",
      "   ång för att dirigera den privata företagsamheten. enligt\n",
      "   t med 12 procent och den privata konsumtio¬ nen har ökat\n",
      "    och utgår ifrån att det privata näringslivet skall öka \n",
      "   . om jag sist ser på den privata kon¬ sumtionen, hur hög\n",
      "   ga om samordningen av de privata och de offentliga inves\n",
      "   tagen lika väl som i den privata industrin. regeringen h\n",
      "   n, vare sig företagen är privata eller statliga. jag bör\n",
      "   äk¬ nar med någon större privat företagar- sektor i fram\n",
      "   ab på nytt skall ägas av privat¬ kapitalister. vad de st\n",
      "   da ökat utrym¬ me för de privatkapitalistiska företagen.\n",
      "   as konsumtion för att de privata företagen skall kunna g\n",
      "    finansministern att den privata konsumtionen väntas öka\n",
      "   m inkluderas nu även det privata försäkringsspa¬ rande! \n",
      "   dessa siffror skulle det privata sparandet, utöver försä\n",
      "   ingvärde har således det privata sparandet mins¬ kat med\n",
      "   ra begränsad än inom den privata. om tjänstemännen dessu\n",
      "   e sätta strålkastarna på privata företag och börja inter\n",
      "    en viss oro inom en del privata företag. vi skall väl h\n",
      "   atligt företag än av ett privat, spe¬ ciellt när det gäl\n",
      "   a företagen utan även de privata. sedan vill jag tillägg\n",
      "    lagar gäller som för de privata. man måste rationaliser\n",
      "   e. till bilden hör också privatskolorna. des¬ sa skolors\n",
      "   er styrelsen för svenska privatsko¬ lors riksförbund bl.\n",
      "   unna säga att vi lever i privatskoledödens tide¬ varv.» \n",
      "   er lång tid därefter var privat eller enskild, i varje f\n",
      "   å uppgifterna om antalet privat¬ skolor är osäkra. följa\n",
      "   riktig bild av an¬ delen privatskolor i det svenska skol\n",
      "   statens förhållande till privatskolorna i vårt land är i\n",
      "   n om. men när det gäller privatskolor i övrigt är bil¬ d\n",
      "   llt stödja och stimulera privatskole- verksamheten, utan\n",
      "    en stor ovisshet för de privatskolor som fungerar, ökad\n",
      "   ör eleverna och en sådan privatskoledöd som jag nämnde i\n",
      "    mitt citat. är denna privatskoledöd och den nu¬ vara\n",
      "   vårt land. oginheten mot privatskolorna hör framför allt\n",
      "   eralt partis politik mot privatskolorna bör enligt mitt \n",
      "    gene¬ rös hållning till privatskolorna. dessa skolor är\n",
      "   r särskilt angeläget att privatskolorna inte utvecklas t\n",
      "    elever som undervisas i privatsko¬ lorna bör åt dessa s\n",
      "    betydande kostnader som privatskolor¬ na numera har för\n",
      "    ka svårigheter. alltså: privatskolorna är ett värde¬ fu\n",
      "    gemensamt av staten och privata intressenter. lis¬ tan \n",
      "   e staten i samarbete med privata svenska intres¬ senter \n",
      "   . det gäl¬ ler såväl den privata som den samhälle¬ liga \n",
      "Riksdagstryck/10_1-12_3 1970 första kammaren/prot_1970__fk__7.xml :\n",
      "   h överläm¬ nats till ett privat bolag utan anbudsför¬ fa\n",
      "Riksdagstryck/10_1-12_3 1970 första kammaren/prot_1970__fk__6.xml :\n",
      "   nde skat¬ tefriheten för privata stiftelser? är det en f\n",
      "   statlig som kommunal och privat regi liksom även taxitra\n",
      "   samma villkor till såväl privata och kommunala som statl\n",
      "   kommunalägda utan jämväl privata och statliga trafikföre\n",
      "Riksdagstryck/10_1-12_3 1970 första kammaren/prot_1970__fk__4.xml :\n",
      "    sjukförsäk¬ ringen till privatpraktiserande läkare, nr \n",
      "   rvs- och gå¬ voskatt för privata stiftelser, nr 901, av \n",
      "Riksdagstryck/10_1-12_3 1970 första kammaren/prot_1970__fk__5.xml :\n",
      "Riksdagstryck/10_1-12_3 1970 första kammaren/prot_1970__fk__8.xml :\n",
      "   ed ekonomiska intressen, privata eller an- knytna till a\n",
      "   r välja in människor med privata intres¬ sen i byggnadsv\n",
      "   n sitter män¬ niskor med privata ekonomiska intres¬ sen \n",
      "   bygg¬ nadsverksamheten — privata eller an¬ slutna till a\n",
      "    gen kan anses ha sådana privata ekono¬ miska intressen \n",
      "   vid sidan om kan bedriva privat arkitektverksamhet. nå¬ \n",
      "    ekonomiska in¬ tressen, privata eller anknytna till ar¬\n",
      "   ed ekonomiska intressen, privata eller anknytna» — det b\n",
      "   som menas med begreppet »privata eller anknutna till arb\n",
      "   ju ingalunda regeringens privatsak, i varje fall inte de\n",
      "===DÉCÉNNIE=== 2\n",
      "Riksdagstryck/10_1-12_3 1970 första kammaren/prot_1970__fk__10.xml :\n",
      "Riksdagstryck/10_1-12_3 1970 första kammaren/prot_1970__fk__1.xml :\n",
      "Riksdagstryck/10_1-12_3 1970 första kammaren/prot_1970__fk__2.xml :\n",
      "   ingarna har brutits, den privata konsumtionsök¬ ningen p\n",
      "   igit med 95 procent, den privata konsumtionen med nära 5\n",
      "   n lierat sig med de rent privat¬ kapitalistiska värderin\n",
      "   om före¬ trädare för det privata näringslivet ger uttryc\n",
      "   årt att tänka mig att en privat bolagsstyrelse och dess \n",
      "   ndra principer än vilket privat företag som helst. herr \n",
      "   t gällde en frågan om de privatpraktiserande läkarnas in\n",
      "    garantera de taxebundna privatpraktiserande läkarna en \n",
      "   mare penetra¬ tion av de privatpraktiserande läkarnas tj\n",
      "   n och de rent fristående privatpraktiserande lä¬ karna. \n",
      "   enligt min mening har de privat¬ praktiserande läkarna e\n",
      "    klara inordnandet av de privatpraktiserande läkarna i d\n",
      "Riksdagstryck/10_1-12_3 1970 första kammaren/prot_1970__fk__3.xml :\n",
      "    behovet av en mins¬ kad privatbilism och ett ökat intre\n",
      "   rad bostads¬ kvot åt ett privat byggnadsföretag. vem är \n",
      "   den som möjligt inom det privata näringslivet, även om d\n",
      "    stånd någ¬ ra avtal med privatpraktikerna. jag skall in\n",
      "   er förmodade beträffande privatpraktikerna, så visar det\n",
      "   ga människor, inte minst privatpersoner som har skrivit \n",
      "   ra ingreppet på sin egen privata klinik? ingen har i den\n",
      "   e redan nu. det gäl¬ ler privatskolorna. en proposition,\n",
      "   n kan ge plats för några privata skolors verksamhet. erf\n",
      "   tionden funnits en¬ bart privatkapitalistiska förlag som\n",
      "   te fråga om att ett enda privat förlag helt fritt för si\n",
      "   s precis lika bestämt av privatkapitalistiska företag. o\n",
      "   sig de är statliga eller privata; de innebär betydande r\n",
      "   ger och stimulerad av de privata tidningsägarnas upplage\n",
      "   kligen en stor roll. det privata ägandet som lägger hand\n",
      "    mer eller mind¬ re dold privatfinansiering. det bör var\n",
      "Riksdagstryck/10_1-12_3 1970 första kammaren/prot_1970__fk__7.xml :\n",
      "   on (fp) ang. skyddet för privatperson mot av¬ lyssning .\n",
      "   ¬ liga sektorn, dels den privata. han sä¬ ger att det vo\n",
      "   ablering som sker på den privata sidan? där måste väl i \n",
      "   ögenhetsfördelningen hos privat¬ personer och framlagt l\n",
      "Riksdagstryck/10_1-12_3 1970 första kammaren/prot_1970__fk__6.xml :\n",
      "Riksdagstryck/10_1-12_3 1970 första kammaren/prot_1970__fk__4.xml :\n",
      "   om sjukförsäkringen till privatpraktiserande läkare; nr \n",
      "Riksdagstryck/10_1-12_3 1970 första kammaren/prot_1970__fk__5.xml :\n",
      "Riksdagstryck/10_1-12_3 1970 första kammaren/prot_1970__fk__8.xml :\n",
      "   on (fp) ang. skyddet för privatperson mot av¬ lyssning .\n",
      "   dborgarnas sam¬ vetssak, privata angelägenhet eller hur \n",
      "   ög grad måste påverka de privatpraktise¬ rande juristern\n",
      "   ljades. ang. skyddet för privatperson mot avlyssning her\n",
      "   åga angående skyddet för privatper¬ son mot avlyssning, \n",
      "Riksdagstryck/10_1-12_3 1970 första kammaren/prot_1970__fk__9.xml :\n",
      "   afiken då det gäller den privata alkoholkonsumtionen. re\n",
      "    vi i huvud¬ sak har ett privat och ett kooperativt näri\n",
      "   örhållande till utgående privata gå¬ vor. man har förut \n",
      "    statliga tillskott till privata stöd åt olika humanitär\n"
     ]
    }
   ],
   "source": [
    "for i, décénnie in enumerate(textes):\n",
    "    print('===DÉCÉNNIE===', i + 1)\n",
    "    for i, texte in enumerate(décénnie):\n",
    "        print(fichiers[i], ':')\n",
    "        texte = re.sub('\\s+', ' ', texte.lower())\n",
    "        concordance = ('(.{{0,{width}}}{pattern}.{{0,{width}}})'\n",
    "                       .format(pattern=chaîne, width=contexte))\n",
    "        for match in re.finditer(concordance, texte):\n",
    "            print('  ', match.group(1))"
   ]
  },
  {
   "cell_type": "markdown",
   "metadata": {},
   "source": [
    "# Cooccurrences"
   ]
  },
  {
   "cell_type": "markdown",
   "metadata": {},
   "source": [
    "## Mots vides"
   ]
  },
  {
   "cell_type": "markdown",
   "metadata": {},
   "source": [
    "On définit une liste de mots vides. On ne l'utilise pas dans le reste du programme"
   ]
  },
  {
   "cell_type": "code",
   "execution_count": 13,
   "metadata": {},
   "outputs": [],
   "source": [
    "mots_vides = ['och', 'den', 'också', 'för']"
   ]
  },
  {
   "cell_type": "markdown",
   "metadata": {},
   "source": [
    "## Fonctions de comptage des mots et des bigrammes"
   ]
  },
  {
   "cell_type": "markdown",
   "metadata": {},
   "source": [
    "On définit les fonctions de comptage. Elles sont tirées de l'édition à venir de mon livre."
   ]
  },
  {
   "cell_type": "code",
   "execution_count": 14,
   "metadata": {},
   "outputs": [],
   "source": [
    "def découpe_mots(texte):\n",
    "    mots = re.findall(\"\\p{L}+|\\p{N}+\", texte)\n",
    "    return mots\n",
    "\n",
    "\n",
    "\"\"\"def découpe_mots(texte):\n",
    "    mots = re.split('[\\s\\-,;:!?.’\\'«»()–...&‘’“”*—]+', texte)\n",
    "    mots.remove('')\n",
    "    return mots\"\"\"\n",
    "\n",
    "\n",
    "def compte_mots(mots):\n",
    "    c_mots = {}\n",
    "    for mot in mots:\n",
    "        c_mots[mot] = c_mots.get(mot, 0) + 1\n",
    "    return c_mots\n",
    "\n",
    "\n",
    "def compte_bigrammes(mots):\n",
    "    c_bigrammes = {}\n",
    "    for i in range(len(mots) - 1):\n",
    "        bigramme = (mots[i], mots[i + 1])\n",
    "        c_bigrammes[bigramme] = c_bigrammes.get(bigramme, 0) + 1\n",
    "    return c_bigrammes\n",
    "\n",
    "\n",
    "def compte_bigrammes_fen(mots, fen=5):\n",
    "    c_bigrammes_fen = {}\n",
    "    for inx in range(1, fen + 1):\n",
    "        for i in range(len(mots) - inx):\n",
    "            bigramme = (mots[i], mots[i + inx])\n",
    "            c_bigrammes_fen[bigramme] = c_bigrammes_fen.get(bigramme, 0) + 1\n",
    "    return c_bigrammes_fen"
   ]
  },
  {
   "cell_type": "markdown",
   "metadata": {},
   "source": [
    "On concatène les textes par décénnie. Pour chaque décénnie, on aura donc une ligne de texte"
   ]
  },
  {
   "cell_type": "code",
   "execution_count": 15,
   "metadata": {},
   "outputs": [],
   "source": [
    "textes = [' '.join(décénnie) for décénnie in textes]"
   ]
  },
  {
   "cell_type": "markdown",
   "metadata": {},
   "source": [
    "On crée aussi une chaîne avec le corpus en entier"
   ]
  },
  {
   "cell_type": "code",
   "execution_count": 16,
   "metadata": {},
   "outputs": [],
   "source": [
    "corpus_entier = ' '.join(textes)"
   ]
  },
  {
   "cell_type": "markdown",
   "metadata": {},
   "source": [
    "## Les mots"
   ]
  },
  {
   "cell_type": "markdown",
   "metadata": {},
   "source": [
    "On compte les mots par décénnie"
   ]
  },
  {
   "cell_type": "code",
   "execution_count": 17,
   "metadata": {},
   "outputs": [
    {
     "name": "stdout",
     "output_type": "stream",
     "text": [
      "===DÉCÉNNIE=== 1\n",
      "   [('att', 13685), ('i', 12060), ('och', 9055), ('det', 8639), ('av', 8286), ('som', 7304), ('för', 7134), ('den', 6123), ('en', 6108), ('till', 5894)]\n",
      "===DÉCÉNNIE=== 2\n",
      "   [('att', 13102), ('i', 10693), ('och', 8580), ('det', 8503), ('av', 7719), ('som', 6853), ('för', 6434), ('den', 6015), ('en', 5982), ('till', 5504)]\n",
      "Nombre total de mots: [426717, 401201]\n"
     ]
    }
   ],
   "source": [
    "c_mots_ordonnés_par_corpus = []\n",
    "c_mots_par_corpus = []\n",
    "textes_découpés = []\n",
    "total_mots_par_corpus = []\n",
    "for i, texte in enumerate(textes):\n",
    "    #print(fichiers[i], ':')\n",
    "    print('===DÉCÉNNIE===', i + 1)\n",
    "    texte = texte.lower()\n",
    "    texte_découpé = découpe_mots(texte)\n",
    "    total_mots_par_corpus += [len(texte_découpé)]\n",
    "    textes_découpés += [texte_découpé]\n",
    "    # print(mots)\n",
    "    c_mots = compte_mots(texte_découpé)\n",
    "    c_mots_par_corpus += [c_mots]\n",
    "    c_mots_ordonnés = sorted(c_mots.items(), key=operator.itemgetter(1), reverse=True)\n",
    "    c_mots_ordonnés_par_corpus += [c_mots_ordonnés]\n",
    "    print('  ', c_mots_ordonnés[:10])\n",
    "print('Nombre total de mots:', total_mots_par_corpus)"
   ]
  },
  {
   "cell_type": "markdown",
   "metadata": {},
   "source": [
    "Pour tout le corpus"
   ]
  },
  {
   "cell_type": "code",
   "execution_count": 18,
   "metadata": {},
   "outputs": [
    {
     "name": "stdout",
     "output_type": "stream",
     "text": [
      "   [('att', 26787), ('i', 22753), ('och', 17635), ('det', 17142), ('av', 16005), ('som', 14157), ('för', 13568), ('den', 12138), ('en', 12090), ('till', 11398)]\n"
     ]
    }
   ],
   "source": [
    "corpus_entier = corpus_entier.lower()\n",
    "corpus_découpé = découpe_mots(corpus_entier)\n",
    "corpus_mots = compte_mots(corpus_découpé)\n",
    "corpus_mots_ordonnés = sorted(corpus_mots.items(), key=operator.itemgetter(1), reverse=True)\n",
    "print('  ', corpus_mots_ordonnés[:10])"
   ]
  },
  {
   "cell_type": "markdown",
   "metadata": {},
   "source": [
    "On filtre les mots qui contiennent la séquence de caractères par décénnie"
   ]
  },
  {
   "cell_type": "code",
   "execution_count": 19,
   "metadata": {},
   "outputs": [
    {
     "name": "stdout",
     "output_type": "stream",
     "text": [
      "===DÉCÉNNIE=== 1\n",
      "  [('privata', 41), ('privat', 14), ('privatskolorna', 7), ('privatskolor', 4), ('privatsko', 2), ('privatskoledöd', 2), ('privatkapitalister', 1), ('privatfinansiering', 1), ('privatpersoner', 1), ('privatkapitalistiska', 1), ('privatskoledödens', 1), ('privatskole', 1), ('privatpraktiserande', 1), ('privatsak', 1)]\n",
      "===DÉCÉNNIE=== 2\n",
      "  [('privata', 15), ('privat', 8), ('privatpraktiserande', 6), ('privatperson', 3), ('privatpraktikerna', 2), ('privatkapitalistiska', 2), ('privatbilism', 1), ('privatpersoner', 1), ('privatskolorna', 1), ('privatfinansiering', 1), ('privatpraktise', 1), ('privatper', 1)]\n"
     ]
    }
   ],
   "source": [
    "occurrences_chaîne = []\n",
    "for i, c_mots_ordonnés in enumerate(c_mots_ordonnés_par_corpus):\n",
    "    print('===DÉCÉNNIE===', i + 1)\n",
    "    #print(fichiers[i], ':')\n",
    "    occurrences_chaîne_1 = list(filter(lambda x: re.search(chaîne, x[0]), \n",
    "                      c_mots_ordonnés))\n",
    "    occurrences_chaîne += [occurrences_chaîne_1]\n",
    "    print(' ', list(filter(lambda x: re.search(chaîne, x[0]), \n",
    "                      c_mots_ordonnés)))"
   ]
  },
  {
   "cell_type": "markdown",
   "metadata": {},
   "source": [
    "Pour tout le corpus"
   ]
  },
  {
   "cell_type": "code",
   "execution_count": 20,
   "metadata": {},
   "outputs": [
    {
     "data": {
      "text/plain": [
       "[('privata', 56),\n",
       " ('privat', 22),\n",
       " ('privatskolorna', 8),\n",
       " ('privatpraktiserande', 7),\n",
       " ('privatskolor', 4),\n",
       " ('privatkapitalistiska', 3),\n",
       " ('privatperson', 3),\n",
       " ('privatfinansiering', 2),\n",
       " ('privatpersoner', 2),\n",
       " ('privatsko', 2),\n",
       " ('privatskoledöd', 2),\n",
       " ('privatpraktikerna', 2),\n",
       " ('privatkapitalister', 1),\n",
       " ('privatskoledödens', 1),\n",
       " ('privatskole', 1),\n",
       " ('privatsak', 1),\n",
       " ('privatbilism', 1),\n",
       " ('privatpraktise', 1),\n",
       " ('privatper', 1)]"
      ]
     },
     "execution_count": 20,
     "metadata": {},
     "output_type": "execute_result"
    }
   ],
   "source": [
    "list(filter(lambda x: re.search(chaîne, x[0]), corpus_mots_ordonnés))"
   ]
  },
  {
   "cell_type": "markdown",
   "metadata": {},
   "source": [
    "### Fréquence absolue de la séquence"
   ]
  },
  {
   "cell_type": "code",
   "execution_count": 21,
   "metadata": {},
   "outputs": [
    {
     "data": {
      "text/plain": [
       "[[('privata', 41),\n",
       "  ('privat', 14),\n",
       "  ('privatskolorna', 7),\n",
       "  ('privatskolor', 4),\n",
       "  ('privatsko', 2),\n",
       "  ('privatskoledöd', 2),\n",
       "  ('privatkapitalister', 1),\n",
       "  ('privatfinansiering', 1),\n",
       "  ('privatpersoner', 1),\n",
       "  ('privatkapitalistiska', 1),\n",
       "  ('privatskoledödens', 1),\n",
       "  ('privatskole', 1),\n",
       "  ('privatpraktiserande', 1),\n",
       "  ('privatsak', 1)],\n",
       " [('privata', 15),\n",
       "  ('privat', 8),\n",
       "  ('privatpraktiserande', 6),\n",
       "  ('privatperson', 3),\n",
       "  ('privatpraktikerna', 2),\n",
       "  ('privatkapitalistiska', 2),\n",
       "  ('privatbilism', 1),\n",
       "  ('privatpersoner', 1),\n",
       "  ('privatskolorna', 1),\n",
       "  ('privatfinansiering', 1),\n",
       "  ('privatpraktise', 1),\n",
       "  ('privatper', 1)]]"
      ]
     },
     "execution_count": 21,
     "metadata": {},
     "output_type": "execute_result"
    }
   ],
   "source": [
    "occurrences_chaîne"
   ]
  },
  {
   "cell_type": "markdown",
   "metadata": {},
   "source": [
    "### Fréquence relative de la séquence par décénnie"
   ]
  },
  {
   "cell_type": "code",
   "execution_count": 22,
   "metadata": {},
   "outputs": [
    {
     "name": "stdout",
     "output_type": "stream",
     "text": [
      "0.0001827909363817237\n",
      "0.00010468568124207068\n"
     ]
    }
   ],
   "source": [
    "for i in range(len(total_mots_par_corpus)):\n",
    "    print(sum([x[1] for x in occurrences_chaîne[i]])/total_mots_par_corpus[i])"
   ]
  },
  {
   "cell_type": "markdown",
   "metadata": {},
   "source": [
    "## Les bigrammes"
   ]
  },
  {
   "cell_type": "markdown",
   "metadata": {},
   "source": [
    "### Les bigrammes comme mots adjacents"
   ]
  },
  {
   "cell_type": "markdown",
   "metadata": {},
   "source": [
    "On compte les bigrammes et on les ordonne par fréquence pour chaque décénnie"
   ]
  },
  {
   "cell_type": "code",
   "execution_count": 23,
   "metadata": {},
   "outputs": [
    {
     "name": "stdout",
     "output_type": "stream",
     "text": [
      "===DÉCÉNNIE=== 1\n",
      "   [(('det', 'är'), 1453), (('att', 'det'), 1150), (('för', 'att'), 1117), (('av', 'herr'), 1028), (('herr', 'talman'), 956), (('m', 'fl'), 677), (('att', 'man'), 634), (('att', 'vi'), 511), (('onsdagen', 'den'), 455), (('fl', 'om'), 446), (('är', 'det'), 433), (('att', 'de'), 433), (('att', 'få'), 419), (('januari', '1970'), 417), (('att', 'den'), 414)]\n",
      "===DÉCÉNNIE=== 2\n",
      "   [(('det', 'är'), 1368), (('av', 'herr'), 1174), (('att', 'det'), 1132), (('för', 'att'), 1014), (('herr', 'talman'), 878), (('att', 'man'), 596), (('m', 'm'), 553), (('m', 'fl'), 506), (('onsdagen', 'den'), 484), (('kungl', 'maj'), 469), (('att', 'vi'), 459), (('är', 'det'), 449), (('i', 'den'), 437), (('att', 'de'), 417), (('att', 'den'), 396)]\n"
     ]
    }
   ],
   "source": [
    "c_bigrammes_ordonnés_par_corpus = []\n",
    "c_bigrammes_par_corpus = []\n",
    "for i, texte_découpé in enumerate(textes_découpés):\n",
    "    print('===DÉCÉNNIE===', i + 1)\n",
    "    # print(fichiers[i], ':')\n",
    "    c_bigrammes = compte_bigrammes(texte_découpé)\n",
    "    c_bigrammes_par_corpus += [c_bigrammes]\n",
    "    c_bigrammes_ordonnés = sorted(c_bigrammes.items(), \n",
    "                                  key=operator.itemgetter(1), reverse=True)\n",
    "    c_bigrammes_ordonnés_par_corpus += [c_bigrammes_ordonnés]\n",
    "    print('  ', c_bigrammes_ordonnés[:15])"
   ]
  },
  {
   "cell_type": "markdown",
   "metadata": {},
   "source": [
    "Et pour le corpus en entier"
   ]
  },
  {
   "cell_type": "code",
   "execution_count": 24,
   "metadata": {},
   "outputs": [
    {
     "data": {
      "text/plain": [
       "[(('det', 'är'), 2821),\n",
       " (('att', 'det'), 2282),\n",
       " (('av', 'herr'), 2202),\n",
       " (('för', 'att'), 2131),\n",
       " (('herr', 'talman'), 1834),\n",
       " (('att', 'man'), 1230),\n",
       " (('m', 'fl'), 1183),\n",
       " (('att', 'vi'), 970),\n",
       " (('onsdagen', 'den'), 939),\n",
       " (('är', 'det'), 882),\n",
       " (('att', 'de'), 850),\n",
       " (('m', 'm'), 836),\n",
       " (('kungl', 'maj'), 832),\n",
       " (('att', 'den'), 810),\n",
       " (('att', 'få'), 793)]"
      ]
     },
     "execution_count": 24,
     "metadata": {},
     "output_type": "execute_result"
    }
   ],
   "source": [
    "corpus_bigrammes = compte_bigrammes(corpus_découpé)\n",
    "corpus_bigrammes_ordonnés = sorted(corpus_bigrammes.items(), \n",
    "                              key=operator.itemgetter(1), reverse=True)\n",
    "corpus_bigrammes_ordonnés[:15]"
   ]
  },
  {
   "cell_type": "markdown",
   "metadata": {},
   "source": [
    "Les bigrammes qui contienne la séquence de caractères pour chaque décénnie"
   ]
  },
  {
   "cell_type": "code",
   "execution_count": 25,
   "metadata": {},
   "outputs": [
    {
     "name": "stdout",
     "output_type": "stream",
     "text": [
      "===DÉCÉNNIE=== 1\n",
      "  [(('den', 'privata'), 11), (('det', 'privata'), 7), (('privata', 'eller'), 6), (('privata', 'och'), 4), (('de', 'privata'), 4), (('med', 'privata'), 3), (('och', 'privata'), 2), (('privat', 'eller'), 2), (('privat', 'företagsamhet'), 2), (('privata', 'näringslivet'), 2), (('privata', 'sparandet'), 2), (('privata', 'företag'), 2), (('ett', 'privat'), 2), (('privatskolor', 'i'), 2), (('till', 'privatskolorna'), 2), (('mot', 'privatskolorna'), 2), (('för', 'privata'), 2), (('privata', 'stiftelser'), 2), (('intressen', 'privata'), 2), (('privata', 'företagsformer'), 1), (('vanliga', 'privatkapitalister'), 1), (('privatkapitalister', 'och'), 1), (('privata', 'före'), 1), (('för', 'privat'), 1), (('privat', 'initiativ'), 1), (('privata', 'ar'), 1), (('privata', 'området'), 1), (('sig', 'privat'), 1), (('privata', 'kapitalet'), 1), (('livaktig', 'privat'), 1), (('privat', 'sektor'), 1), (('underlätta', 'privat'), 1), (('eller', 'privata'), 1), (('privata', 'lokalise'), 1), (('för', 'privatfinansiering'), 1), (('privatfinansiering', 'en'), 1), (('mycket', 'privat'), 1), (('privat', 'kapital'), 1), (('privata', 'kapitalbildningen'), 1), (('fåtal', 'privatpersoner'), 1), (('privatpersoner', 'erfarenheten'), 1), (('från', 'privat'), 1), (('privata', 'företagsamheten'), 1), (('privata', 'konsumtio'), 1), (('privata', 'kon'), 1), (('privata', 'industrin'), 1), (('är', 'privata'), 1), (('större', 'privat'), 1), (('privat', 'företagar'), 1), (('av', 'privat'), 1), (('privat', 'kapitalister'), 1), (('de', 'privatkapitalistiska'), 1), (('privatkapitalistiska', 'företagen'), 1), (('privata', 'företagen'), 1), (('privata', 'konsumtionen'), 1), (('privata', 'försäkringsspa'), 1), (('privata', 'om'), 1), (('på', 'privata'), 1), (('del', 'privata'), 1), (('privat', 'spe'), 1), (('privata', 'sedan'), 1), (('privata', 'man'), 1), (('också', 'privatskolorna'), 1), (('privatskolorna', 'des'), 1), (('svenska', 'privatsko'), 1), (('privatsko', 'lors'), 1), (('i', 'privatskoledödens'), 1), (('privatskoledödens', 'tide'), 1), (('var', 'privat'), 1), (('antalet', 'privat'), 1), (('privat', 'skolor'), 1), (('delen', 'privatskolor'), 1), (('privatskolorna', 'i'), 1), (('gäller', 'privatskolor'), 1), (('stimulera', 'privatskole'), 1), (('privatskole', 'verksamheten'), 1), (('de', 'privatskolor'), 1), (('privatskolor', 'som'), 1), (('sådan', 'privatskoledöd'), 1), (('privatskoledöd', 'som'), 1), (('denna', 'privatskoledöd'), 1), (('privatskoledöd', 'och'), 1), (('privatskolorna', 'hör'), 1), (('privatskolorna', 'bör'), 1), (('privatskolorna', 'dessa'), 1), (('att', 'privatskolorna'), 1), (('privatskolorna', 'inte'), 1), (('i', 'privatsko'), 1), (('privatsko', 'lorna'), 1), (('som', 'privatskolor'), 1), (('privatskolor', 'na'), 1), (('alltså', 'privatskolorna'), 1), (('privatskolorna', 'är'), 1), (('privata', 'intressenter'), 1), (('privata', 'svenska'), 1), (('privata', 'som'), 1), (('privat', 'bolag'), 1), (('och', 'privat'), 1), (('privat', 'regi'), 1), (('såväl', 'privata'), 1), (('jämväl', 'privata'), 1), (('till', 'privatpraktiserande'), 1), (('privatpraktiserande', 'läkare'), 1), (('privata', 'intres'), 1), (('privata', 'ekonomiska'), 1), (('nadsverksamheten', 'privata'), 1), (('sådana', 'privata'), 1), (('privata', 'ekono'), 1), (('bedriva', 'privat'), 1), (('privat', 'arkitektverksamhet'), 1), (('tressen', 'privata'), 1), (('begreppet', 'privata'), 1), (('regeringens', 'privatsak'), 1), (('privatsak', 'i'), 1)]\n",
      "===DÉCÉNNIE=== 2\n",
      "  [(('den', 'privata'), 5), (('det', 'privata'), 3), (('de', 'privatpraktiserande'), 3), (('för', 'privatperson'), 3), (('privatperson', 'mot'), 3), (('privata', 'näringslivet'), 2), (('privatpraktiserande', 'läkarnas'), 2), (('privatpraktiserande', 'läkarna'), 2), (('ett', 'privat'), 2), (('privata', 'konsumtionsök'), 1), (('privata', 'konsumtionen'), 1), (('rent', 'privat'), 1), (('privat', 'kapitalistiska'), 1), (('en', 'privat'), 1), (('privat', 'bolagsstyrelse'), 1), (('vilket', 'privat'), 1), (('privat', 'företag'), 1), (('taxebundna', 'privatpraktiserande'), 1), (('fristående', 'privatpraktiserande'), 1), (('privatpraktiserande', 'lä'), 1), (('de', 'privat'), 1), (('privat', 'praktiserande'), 1), (('kad', 'privatbilism'), 1), (('privatbilism', 'och'), 1), (('privat', 'byggnadsföretag'), 1), (('med', 'privatpraktikerna'), 1), (('privatpraktikerna', 'jag'), 1), (('beträffande', 'privatpraktikerna'), 1), (('privatpraktikerna', 'så'), 1), (('minst', 'privatpersoner'), 1), (('privatpersoner', 'som'), 1), (('egen', 'privata'), 1), (('privata', 'klinik'), 1), (('ler', 'privatskolorna'), 1), (('privatskolorna', 'en'), 1), (('några', 'privata'), 1), (('privata', 'skolors'), 1), (('bart', 'privatkapitalistiska'), 1), (('privatkapitalistiska', 'förlag'), 1), (('enda', 'privat'), 1), (('privat', 'förlag'), 1), (('av', 'privatkapitalistiska'), 1), (('privatkapitalistiska', 'företag'), 1), (('eller', 'privata'), 1), (('privata', 'de'), 1), (('de', 'privata'), 1), (('privata', 'tidningsägarnas'), 1), (('privata', 'ägandet'), 1), (('dold', 'privatfinansiering'), 1), (('privatfinansiering', 'det'), 1), (('privata', 'han'), 1), (('privata', 'sidan'), 1), (('hos', 'privat'), 1), (('privat', 'personer'), 1), (('till', 'privatpraktiserande'), 1), (('privatpraktiserande', 'läkare'), 1), (('vetssak', 'privata'), 1), (('privata', 'angelägenhet'), 1), (('de', 'privatpraktise'), 1), (('privatpraktise', 'rande'), 1), (('för', 'privatper'), 1), (('privatper', 'son'), 1), (('privata', 'alkoholkonsumtionen'), 1), (('privat', 'och'), 1), (('utgående', 'privata'), 1), (('privata', 'gå'), 1), (('till', 'privata'), 1), (('privata', 'stöd'), 1)]\n"
     ]
    }
   ],
   "source": [
    "for i, c_bigrammes_ordonnés in enumerate(c_bigrammes_ordonnés_par_corpus):\n",
    "    # print(fichiers[i], ':')\n",
    "    print('===DÉCÉNNIE===', i + 1)\n",
    "    print(' ', list(filter(lambda x: re.search(chaîne, x[0][0]) or \n",
    "                           re.search(chaîne, x[0][1]), \n",
    "                      c_bigrammes_ordonnés)))"
   ]
  },
  {
   "cell_type": "markdown",
   "metadata": {},
   "source": [
    "Et pour le corpus en entier. On ne retient que les couples avec une fréquence supérieure à 5"
   ]
  },
  {
   "cell_type": "code",
   "execution_count": 26,
   "metadata": {},
   "outputs": [
    {
     "data": {
      "text/plain": [
       "[(('den', 'privata'), 16),\n",
       " (('det', 'privata'), 10),\n",
       " (('privata', 'eller'), 6),\n",
       " (('de', 'privata'), 5)]"
      ]
     },
     "execution_count": 26,
     "metadata": {},
     "output_type": "execute_result"
    }
   ],
   "source": [
    "list(filter(lambda x: (re.search(chaîne, x[0][0]) or \n",
    "                           re.search(chaîne, x[0][1])) and x[1] >= 5, \n",
    "                      corpus_bigrammes_ordonnés))"
   ]
  },
  {
   "cell_type": "markdown",
   "metadata": {},
   "source": [
    "### Les bigrammes définis dans une fenêtre"
   ]
  },
  {
   "cell_type": "markdown",
   "metadata": {},
   "source": [
    "Les bigrammes avec une fenêtre. On considère maintenant le contexte à droite et à gauche du mot avec une fenêtre de 5 mots"
   ]
  },
  {
   "cell_type": "markdown",
   "metadata": {},
   "source": [
    "Les bigrammes les plus fréquents pour chaque décénnie"
   ]
  },
  {
   "cell_type": "code",
   "execution_count": 27,
   "metadata": {},
   "outputs": [
    {
     "name": "stdout",
     "output_type": "stream",
     "text": [
      "===DÉCÉNNIE=== 1\n",
      "[(('det', 'att'), 2184), (('att', 'det'), 1939), (('det', 'är'), 1921), (('jag', 'att'), 1856), (('för', 'att'), 1797), (('att', 'i'), 1764), (('är', 'att'), 1664), (('nr', 'av'), 1481), (('att', 'en'), 1367), (('som', 'i'), 1345)]\n",
      "===DÉCÉNNIE=== 2\n",
      "[(('det', 'att'), 2131), (('att', 'det'), 1909), (('det', 'är'), 1824), (('för', 'att'), 1674), (('att', 'i'), 1670), (('jag', 'att'), 1601), (('är', 'att'), 1552), (('av', 'herr'), 1533), (('nr', 'av'), 1375), (('att', 'en'), 1374)]\n"
     ]
    }
   ],
   "source": [
    "c_bigrammes_fen_ordonnés_par_corpus = []\n",
    "for i, texte_découpé in enumerate(textes_découpés):\n",
    "    # print(fichiers[i], ':')\n",
    "    print('===DÉCÉNNIE===', i + 1)\n",
    "    c_bigrammes_fen = compte_bigrammes_fen(texte_découpé)\n",
    "    c_bigrammes_fen_ordonnés = sorted(c_bigrammes_fen.items(), \n",
    "                              key=operator.itemgetter(1), reverse=True)\n",
    "    c_bigrammes_fen_ordonnés_par_corpus += [c_bigrammes_fen_ordonnés]\n",
    "    print(c_bigrammes_fen_ordonnés[:10])"
   ]
  },
  {
   "cell_type": "markdown",
   "metadata": {},
   "source": [
    "Et pour le corpus entier"
   ]
  },
  {
   "cell_type": "code",
   "execution_count": 28,
   "metadata": {},
   "outputs": [
    {
     "data": {
      "text/plain": [
       "[(('det', 'att'), 4315),\n",
       " (('att', 'det'), 3848),\n",
       " (('det', 'är'), 3745),\n",
       " (('för', 'att'), 3471),\n",
       " (('jag', 'att'), 3457),\n",
       " (('att', 'i'), 3434),\n",
       " (('är', 'att'), 3216),\n",
       " (('nr', 'av'), 2856),\n",
       " (('av', 'herr'), 2776),\n",
       " (('att', 'en'), 2741),\n",
       " (('som', 'i'), 2620),\n",
       " (('att', 'att'), 2595),\n",
       " (('herr', 'talman'), 2516),\n",
       " (('i', 'det'), 2399),\n",
       " (('i', 'och'), 2391)]"
      ]
     },
     "execution_count": 28,
     "metadata": {},
     "output_type": "execute_result"
    }
   ],
   "source": [
    "corpus_bigrammes_fen = compte_bigrammes_fen(corpus_découpé)\n",
    "corpus_bigrammes_ordonnés_fen = sorted(corpus_bigrammes_fen.items(), \n",
    "                              key=operator.itemgetter(1), reverse=True)\n",
    "corpus_bigrammes_ordonnés_fen[:15]"
   ]
  },
  {
   "cell_type": "markdown",
   "metadata": {},
   "source": [
    "Les bigrammes avec la séquence de caractères recherchée par décénnie"
   ]
  },
  {
   "cell_type": "code",
   "execution_count": 29,
   "metadata": {},
   "outputs": [
    {
     "name": "stdout",
     "output_type": "stream",
     "text": [
      "===DÉCÉNNIE=== 1\n",
      "[(('den', 'privata'), 12), (('det', 'privata'), 10), (('med', 'privata'), 8), (('privata', 'och'), 6), (('privata', 'eller'), 6), (('privata', 'i'), 6), (('och', 'privata'), 5), (('på', 'privata'), 5), (('för', 'privata'), 5), (('privata', 'till'), 5), (('de', 'privata'), 4), (('av', 'privata'), 4), (('att', 'privata'), 4), (('privata', 'skall'), 4), (('ekonomiska', 'privata'), 4), (('privat', 'att'), 4), (('som', 'privata'), 4), (('privata', 'med'), 4), (('privata', 'sparandet'), 3), (('till', 'privatskolorna'), 3), (('privatskolorna', 'är'), 3), (('privata', 'som'), 3), (('och', 'privat'), 3), (('intressen', 'privata'), 3), (('privata', 'intres'), 3), (('privata', 'den'), 3), (('i', 'privata'), 3), (('privata', 'statliga'), 3), (('privatskolorna', 'ett'), 3), (('privata', 'är'), 3), (('privata', 'det'), 3), (('privata', 'jag'), 3), (('som', 'privat'), 3), (('privata', 'investeringar'), 3), (('person', 'privata'), 3), (('för', 'privat'), 2), (('privata', 'ar'), 2), (('privat', 'eller'), 2), (('privat', 'sektor'), 2), (('privat', 'företagsamhet'), 2), (('privata', 'näringslivet'), 2), (('privata', 'företagsamheten'), 2), (('av', 'privat'), 2), (('privata', 'företag'), 2), (('ett', 'privat'), 2), (('privata', 'man'), 2), (('privatskolor', 'i'), 2), (('privatskolorna', 'i'), 2), (('de', 'privatskolor'), 2), (('mot', 'privatskolorna'), 2), (('privatskolorna', 'inte'), 2), (('privata', 'stiftelser'), 2), (('såväl', 'privata'), 2), (('gäller', 'privata'), 2), (('privat', 'och'), 2), (('privat', 'är'), 2), (('att', 'privat'), 2), (('statliga', 'privata'), 2), (('till', 'privata'), 2), (('företagen', 'privata'), 2), (('även', 'privata'), 2), (('skulle', 'privata'), 2), (('inom', 'privata'), 2), (('en', 'privata'), 2), (('om', 'privat'), 2), (('staten', 'privata'), 2), (('utan', 'privata'), 2), (('privata', 'an'), 2), (('privata', 'sen'), 2), (('in', 'privata'), 2), (('privata', 'anknytna'), 2), (('privata', 'på'), 2), (('privata', 'av'), 2), (('privat', 'ett'), 2), (('privata', 'har'), 2), (('privata', 'öka'), 2), (('privat', 'i'), 2), (('privat', 'de'), 2), (('har', 'privata'), 2), (('privata', 'trafikföretag'), 2), (('inte', 'privata'), 2), (('privata', 'bör'), 2), (('privata', '2'), 2), (('privata', 'att'), 2), (('utses', 'privata'), 2), (('privata', 'arbetsgivare'), 2), (('privata', 'företagsformer'), 1), (('vanliga', 'privatkapitalister'), 1), (('privatkapitalister', 'och'), 1), (('privata', 'före'), 1), (('privat', 'initiativ'), 1), (('privata', 'området'), 1), (('sig', 'privat'), 1), (('privata', 'kapitalet'), 1), (('livaktig', 'privat'), 1), (('underlätta', 'privat'), 1), (('eller', 'privata'), 1), (('privata', 'lokalise'), 1), (('för', 'privatfinansiering'), 1), (('privatfinansiering', 'en'), 1), (('mycket', 'privat'), 1), (('privat', 'kapital'), 1), (('privata', 'kapitalbildningen'), 1), (('fåtal', 'privatpersoner'), 1), (('privatpersoner', 'erfarenheten'), 1), (('från', 'privat'), 1), (('privata', 'konsumtio'), 1), (('privata', 'kon'), 1), (('privata', 'industrin'), 1), (('är', 'privata'), 1), (('större', 'privat'), 1), (('privat', 'företagar'), 1), (('privat', 'kapitalister'), 1), (('de', 'privatkapitalistiska'), 1), (('privatkapitalistiska', 'företagen'), 1), (('privata', 'företagen'), 1), (('privata', 'konsumtionen'), 1), (('privata', 'försäkringsspa'), 1), (('privata', 'om'), 1), (('del', 'privata'), 1), (('privat', 'spe'), 1), (('privata', 'sedan'), 1), (('också', 'privatskolorna'), 1), (('privatskolorna', 'des'), 1), (('svenska', 'privatsko'), 1), (('privatsko', 'lors'), 1), (('i', 'privatskoledödens'), 1), (('privatskoledödens', 'tide'), 1), (('var', 'privat'), 1), (('antalet', 'privat'), 1), (('privat', 'skolor'), 1), (('delen', 'privatskolor'), 1), (('gäller', 'privatskolor'), 1), (('stimulera', 'privatskole'), 1), (('privatskole', 'verksamheten'), 1), (('privatskolor', 'som'), 1), (('sådan', 'privatskoledöd'), 1), (('privatskoledöd', 'som'), 1), (('denna', 'privatskoledöd'), 1), (('privatskoledöd', 'och'), 1), (('privatskolorna', 'hör'), 1), (('privatskolorna', 'bör'), 1), (('privatskolorna', 'dessa'), 1), (('att', 'privatskolorna'), 1), (('i', 'privatsko'), 1), (('privatsko', 'lorna'), 1), (('som', 'privatskolor'), 1), (('privatskolor', 'na'), 1), (('alltså', 'privatskolorna'), 1), (('privata', 'intressenter'), 1), (('privata', 'svenska'), 1), (('privat', 'bolag'), 1), (('privat', 'regi'), 1), (('jämväl', 'privata'), 1), (('till', 'privatpraktiserande'), 1), (('privatpraktiserande', 'läkare'), 1), (('privata', 'ekonomiska'), 1), (('nadsverksamheten', 'privata'), 1), (('sådana', 'privata'), 1), (('privata', 'ekono'), 1), (('bedriva', 'privat'), 1), (('privat', 'arkitektverksamhet'), 1), (('tressen', 'privata'), 1), (('begreppet', 'privata'), 1), (('regeringens', 'privatsak'), 1), (('privatsak', 'i'), 1), (('operativa', 'privata'), 1), (('privata', 'tävlar'), 1), (('blivit', 'privatkapitalister'), 1), (('privatkapitalister', 'tän'), 1), (('när', 'privata'), 1), (('privata', 'tagsamheten'), 1), (('ges', 'privat'), 1), (('privata', 'betsmarknaden'), 1), (('vare', 'privat'), 1), (('privat', 'koope'), 1), (('privat', 'jag'), 1), (('privata', 'ringar'), 1), (('kostnaderna', 'privatfinansiering'), 1), (('privatfinansiering', 'vilket'), 1), (('privata', 'när'), 1), (('så', 'privat'), 1), (('privat', 'till'), 1), (('bort', 'privata'), 1), (('privata', 'utan'), 1), (('ett', 'privatpersoner'), 1), (('privatpersoner', 'säger'), 1), (('vete', 'privat'), 1), (('privat', 'för'), 1), (('dirigera', 'privata'), 1), (('privata', 'enligt'), 1), (('privata', 'nen'), 1), (('privata', 'sumtionen'), 1), (('privata', 'de'), 1), (('privata', 'regeringen'), 1), (('någon', 'privat'), 1), (('ägas', 'privat'), 1), (('privat', 'vad'), 1), (('för', 'privatkapitalistiska'), 1), (('privatkapitalistiska', 'investeringar'), 1), (('privata', 'väntas'), 1), (('privata', 'rande'), 1), (('privata', 'utöver'), 1), (('således', 'privata'), 1), (('privata', 'mins'), 1), (('privata', 'tjänstemännen'), 1), (('strålkastarna', 'privata'), 1), (('privata', 'vi'), 1), (('privat', 'ciellt'), 1), (('privata', 'vill'), 1), (('privata', 'måste'), 1), (('hör', 'privatskolorna'), 1), (('privatskolorna', 'sa'), 1), (('för', 'privatsko'), 1), (('privatsko', 'riksförbund'), 1), (('lever', 'privatskoledödens'), 1), (('privatskoledödens', 'varv'), 1), (('därefter', 'privat'), 1), (('privat', 'enskild'), 1), (('an', 'privatskolor'), 1), (('privatskolor', 'det'), 1), (('förhållande', 'privatskolorna'), 1), (('privatskolorna', 'vårt'), 1), (('det', 'privatskolor'), 1), (('privatskolor', 'övrigt'), 1), (('och', 'privatskole'), 1), (('privatskole', 'utan'), 1), (('för', 'privatskolor'), 1), (('privatskolor', 'fungerar'), 1), (('en', 'privatskoledöd'), 1), (('privatskoledöd', 'jag'), 1), (('är', 'privatskoledöd'), 1), (('privatskoledöd', 'den'), 1), (('oginheten', 'privatskolorna'), 1), (('privatskolorna', 'framför'), 1), (('politik', 'privatskolorna'), 1), (('privatskolorna', 'enligt'), 1), (('hållning', 'privatskolorna'), 1), (('privatskolorna', 'skolor'), 1), (('angeläget', 'privatskolorna'), 1), (('privatskolorna', 'utvecklas'), 1), (('undervisas', 'privatsko'), 1), (('privatsko', 'bör'), 1), (('kostnader', 'privatskolor'), 1), (('privatskolor', 'numera'), 1), (('svårigheter', 'privatskolorna'), 1), (('privata', 'lis'), 1), (('samarbete', 'privata'), 1), (('till', 'privat'), 1), (('privat', 'utan'), 1), (('tefriheten', 'privata'), 1), (('kommunal', 'privat'), 1), (('privat', 'liksom'), 1), (('privata', 'kommunala'), 1), (('ringen', 'privatpraktiserande'), 1), (('privatpraktiserande', 'nr'), 1), (('voskatt', 'privata'), 1), (('privata', 'nr'), 1), (('människor', 'privata'), 1), (('niskor', 'privata'), 1), (('bygg', 'privata'), 1), (('ha', 'privata'), 1), (('privata', 'miska'), 1), (('kan', 'privat'), 1), (('privat', 'nå'), 1), (('privata', 'anknutna'), 1), (('ingalunda', 'privatsak'), 1), (('privatsak', 'varje'), 1), (('ko', 'privata'), 1), (('privata', 'kooperativa'), 1), (('har', 'privatkapitalister'), 1), (('privatkapitalister', 'ker'), 1), (('lösningen', 'privata'), 1), (('privata', 'misslyckats'), 1), (('utrymme', 'privat'), 1), (('privat', 'framåtanda'), 1), (('reglering', 'privata'), 1), (('redan', 'privata'), 1), (('inom', 'privat'), 1), (('privat', 'rativ'), 1), (('konfiskation', 'privata'), 1), (('privata', 'jordbruksnäringen'), 1), (('stark', 'privat'), 1), (('privat', 'föreställer'), 1), (('varken', 'privata'), 1), (('ker', 'privatfinansiering'), 1), (('privatfinansiering', 'i'), 1), (('helt', 'privata'), 1), (('har', 'privat'), 1), (('privat', 'gängligt'), 1), (('tar', 'privata'), 1), (('hos', 'privatpersoner'), 1), (('privatpersoner', 'oss'), 1), (('litet', 'privat'), 1), (('privata', 'denna'), 1), (('procent', 'privata'), 1), (('ifrån', 'privata'), 1), (('ser', 'privata'), 1), (('privata', 'hur'), 1), (('samordningen', 'privata'), 1), (('privata', 'offentliga'), 1), (('sig', 'privata'), 1), (('med', 'privat'), 1), (('skall', 'privat'), 1), (('me', 'privatkapitalistiska'), 1), (('privatkapitalistiska', 'i'), 1), (('privata', 'kunna'), 1), (('finansministern', 'privata'), 1), (('nu', 'privata'), 1), (('siffror', 'privata'), 1), (('privata', 'försäkrings'), 1), (('privata', 'kat'), 1), (('än', 'privata'), 1), (('privata', 'dessutom'), 1), (('sätta', 'privata'), 1), (('privata', 'börja'), 1), (('än', 'privat'), 1), (('privat', 'när'), 1), (('privata', 'rationalisera'), 1), (('bilden', 'privatskolorna'), 1), (('privatskolorna', 'skolors'), 1), (('styrelsen', 'privatsko'), 1), (('privatsko', 'bl'), 1), (('vi', 'privatskoledödens'), 1), (('privatskoledödens', 'ser'), 1), (('tid', 'privat'), 1), (('uppgifterna', 'privat'), 1), (('privat', 'osäkra'), 1), (('av', 'privatskolor'), 1), (('privatskolor', 'svenska'), 1), (('statens', 'privatskolorna'), 1), (('privatskolorna', 'land'), 1), (('när', 'privatskolor'), 1), (('privatskolor', 'är'), 1), (('stödja', 'privatskole'), 1), (('privatskole', 'att'), 1), (('ovisshet', 'privatskolor'), 1), (('privatskolor', 'ökade'), 1), (('och', 'privatskoledöd'), 1), (('privatskoledöd', 'nämnde'), 1), (('citat', 'privatskoledöd'), 1), (('privatskoledöd', 'nu'), 1), (('land', 'privatskolorna'), 1), (('privatskolorna', 'allt'), 1), (('partis', 'privatskolorna'), 1), (('privatskolorna', 'mitt'), 1), (('rös', 'privatskolorna'), 1), (('särskilt', 'privatskolorna'), 1), (('privatskolorna', 'till'), 1), (('som', 'privatsko'), 1), (('privatsko', 'åt'), 1), (('betydande', 'privatskolor'), 1), (('privatskolor', 'har'), 1), (('ka', 'privatskolorna'), 1), (('privatskolorna', 'värde'), 1), (('privata', 'tan'), 1), (('privata', 'senter'), 1), (('ler', 'privata'), 1), (('privata', 'samhälle'), 1), (('nats', 'privat'), 1), (('privat', 'anbudsför'), 1), (('skat', 'privata'), 1), (('privat', 'även'), 1), (('villkor', 'privata'), 1), (('kommunalägda', 'privata'), 1), (('sjukförsäk', 'privatpraktiserande'), 1), (('privatpraktiserande', '597'), 1), (('gå', 'privata'), 1), (('privata', '901'), 1), (('privata', 'knytna'), 1), (('män', 'privata'), 1), (('privata', 'slutna'), 1), (('anses', 'privata'), 1), (('privata', 'intressen'), 1), (('privat', 'gon'), 1), (('menas', 'privata'), 1), (('ju', 'privatsak'), 1), (('privatsak', 'fall'), 1), (('samhälleliga', 'privata'), 1), (('privata', 'lika'), 1), (('vad', 'privata'), 1), (('de', 'privatkapitalister'), 1), (('privatkapitalister', 'mest'), 1), (('göra', 'privata'), 1), (('privata', 'varför'), 1), (('ökat', 'privat'), 1), (('privat', 'måste'), 1), (('betstidens', 'privata'), 1), (('privata', 'detta'), 1), (('finns', 'privata'), 1), (('privata', 'oss'), 1), (('önskan', 'privat'), 1), (('privat', 'handel'), 1), (('ren', 'privata'), 1), (('en', 'privat'), 1), (('privat', 'remissdebatt'), 1), (('inrättats', 'privat'), 1), (('privat', 'mig'), 1), (('privata', 'någon'), 1), (('täc', 'privatfinansiering'), 1), (('privatfinansiering', 'nuläget'), 1), (('därför', 'privata'), 1), (('privata', 'aviserade'), 1), (('dag', 'privat'), 1), (('privata', 'stäl'), 1), (('samlade', 'privatpersoner'), 1), (('privatpersoner', 'att'), 1), (('in', 'privat'), 1), (('privat', 'få'), 1), (('privata', 'tanke'), 1), (('12', 'privata'), 1), (('privata', 'ökat'), 1), (('utgår', 'privata'), 1), (('privata', 'sina'), 1), (('sist', 'privata'), 1), (('privata', 'hög'), 1), (('om', 'privata'), 1), (('väl', 'privata'), 1), (('privata', 't'), 1), (('vare', 'privata'), 1), (('nar', 'privat'), 1), (('privat', 'framtiden'), 1), (('nytt', 'privat'), 1), (('privat', 'strejkande'), 1), (('utrym', 'privatkapitalistiska'), 1), (('privatkapitalistiska', 'nya'), 1), (('konsumtion', 'privata'), 1), (('privata', 'göra'), 1), (('staterar', 'privata'), 1), (('inkluderas', 'privata'), 1), (('dessa', 'privata'), 1), (('penningvärde', 'privata'), 1), (('begränsad', 'privata'), 1), (('privata', 'vilket'), 1), (('le', 'privata'), 1), (('privata', 'intervjua'), 1), (('oro', 'privata'), 1), (('privata', 'väl'), 1), (('företag', 'privat'), 1), (('privat', 'det'), 1), (('privata', 'tillägga'), 1), (('privata', 'för'), 1), (('privatskolorna', 'situation'), 1), (('håller', 'privatsko'), 1), (('privatsko', 'a'), 1), (('att', 'privatskoledödens'), 1), (('privatskoledödens', 'man'), 1), (('lång', 'privat'), 1), (('privat', 'varje'), 1), (('också', 'privat'), 1), (('privat', 'följande'), 1), (('bild', 'privatskolor'), 1), (('privatskolor', 'skol'), 1), (('yrkesskolor', 'privatskolorna'), 1), (('men', 'privatskolor'), 1), (('privatskolor', 'bil'), 1), (('nerellt', 'privatskole'), 1), (('privatskole', 'så'), 1), (('stor', 'privatskolor'), 1), (('privatskolor', 'eko'), 1), (('eleverna', 'privatskoledöd'), 1), (('privatskoledöd', 'i'), 1), (('mitt', 'privatskoledöd'), 1), (('privatskoledöd', 'varande'), 1), (('vårt', 'privatskolorna'), 1), (('privatskolorna', 'hemma'), 1), (('liberalt', 'privatskolorna'), 1), (('privatskolorna', 'sett'), 1), (('gene', 'privatskolorna'), 1), (('är', 'privatskolorna'), 1), (('elever', 'privatsko'), 1), (('privatsko', 'dessa'), 1), (('privatskolor', 'för'), 1), (('ekonomis', 'privatskolorna'), 1), (('privatskolorna', 'fullt'), 1), (('gemensamt', 'privata'), 1), (('privata', 'över'), 1), (('gäl', 'privata'), 1), (('privata', 'liga'), 1), (('överläm', 'privat'), 1), (('privat', 'farande'), 1), (('nuvarande', 'privata'), 1), (('privata', 'en'), 1), (('statlig', 'privat'), 1), (('privat', 'taxitrafik'), 1), (('samma', 'privata'), 1), (('bara', 'privata'), 1), (('inom', 'privatpraktiserande'), 1), (('privatpraktiserande', 'av'), 1), (('välja', 'privata'), 1), (('privata', 'byggnadsverksamheten'), 1), (('sitter', 'privata'), 1), (('kan', 'privata'), 1), (('sidan', 'privat'), 1), (('privat', 'kan'), 1), (('privata', 'arbetsgiva'), 1), (('är', 'privatsak'), 1), (('privatsak', 'inte'), 1), (('där', 'privata'), 1), (('privata', 'villkor'), 1), (('både', 'privata'), 1), (('privata', 'lag'), 1), (('misslyckats', 'privatkapitalister'), 1), (('privatkapitalister', 'på'), 1), (('ut', 'privata'), 1), (('privat', 'emellertid'), 1), (('ar', 'privata'), 1), (('privata', 'inte'), 1), (('frågor', 'privata'), 1), (('privata', 'motionärer'), 1), (('helst', 'privat'), 1), (('privata', 'kan'), 1), (('privat', 'viktigt'), 1), (('anledning', 'privata'), 1), (('privata', 'större'), 1), (('som', 'privatfinansiering'), 1), (('privatfinansiering', 'innebär'), 1), (('står', 'privata'), 1), (('privata', 'förslaget'), 1), (('i', 'privat'), 1), (('privata', 'let'), 1), (('fortfarande', 'privatpersoner'), 1), (('privatpersoner', 'dessa'), 1), (('blanda', 'privat'), 1), (('gång', 'privata'), 1), (('jag', 'privata'), 1), (('fråga', 'privata'), 1), (('privata', 'na'), 1), (('lika', 'privata'), 1), (('privata', 'o'), 1), (('linjen', 'privata'), 1), (('privata', 'också'), 1), (('räk', 'privat'), 1), (('på', 'privat'), 1), (('privat', 'arbetar'), 1), (('ökat', 'privatkapitalistiska'), 1), (('privatkapitalistiska', 'produktionsmedel'), 1), (('medborgarnas', 'privata'), 1), (('kon', 'privata'), 1), (('privata', '3'), 1), (('dessutom', 'privata'), 1), (('privata', 'endast'), 1), (('fast', 'privata'), 1), (('privata', 'mer'), 1), (('mera', 'privata'), 1), (('skul', 'privata'), 1), (('privata', 'människor'), 1), (('viss', 'privata'), 1), (('privata', 'hoppas'), 1), (('statligt', 'privat'), 1), (('privat', 'gäller'), 1), (('lagar', 'privata'), 1), (('skolväsende', 'privatskolorna'), 1), (('privatskolorna', 'har'), 1), (('fram', 'privatsko'), 1), (('privatsko', 'följande'), 1), (('säga', 'privatskoledödens'), 1), (('privatskoledödens', 'på'), 1), (('under', 'privat'), 1), (('privat', 'fall'), 1), (('område', 'privat'), 1), (('privat', 'uppgifter'), 1), (('riktig', 'privatskolor'), 1), (('privatskolor', 'systemet'), 1), (('107', 'privatskolorna'), 1), (('om', 'privatskolor'), 1), (('privatskolor', 'den'), 1), (('ge', 'privatskole'), 1), (('privatskole', 'borde'), 1), (('en', 'privatskolor'), 1), (('privatskolor', 'nomiska'), 1), (('för', 'privatskoledöd'), 1), (('privatskoledöd', 'mitt'), 1), (('i', 'privatskoledöd'), 1), (('privatskoledöd', 'tendensen'), 1), (('i', 'privatskolorna'), 1), (('ett', 'privatskolorna'), 1), (('privatskolorna', 'att'), 1), (('en', 'privatskolorna'), 1), (('privatskolorna', 'ideellt'), 1), (('det', 'privatskolorna'), 1), (('privatskolorna', 'slags'), 1), (('de', 'privatsko'), 1), (('privatsko', 'skolor'), 1), (('uppmärksamma', 'privatskolor'), 1), (('privatskolor', 'lokaler'), 1), (('stora', 'privatskolorna'), 1), (('privatskolorna', 'komplement'), 1), (('iigs', 'privata'), 1), (('privata', 'statlig'), 1), (('privata', 'ett'), 1), (('privata', 'sektorn'), 1), (('privat', 'antalet'), 1), (('privata', 'fråga'), 1), (('såväl', 'privat'), 1), (('privat', 'torsdagen'), 1), (('privata', 'del'), 1), (('ersättningen', 'privatpraktiserande'), 1), (('privatpraktiserande', 'herrar'), 1), (('arvs', 'privata'), 1), (('privata', 'herr'), 1), (('nämnder', 'privata'), 1), (('privata', 'eftersom'), 1), (('samhällen', 'privata'), 1), (('gen', 'privata'), 1), (('privata', 'byggnadsverksamhe'), 1), (('vid', 'privat'), 1), (('privat', 'vilja'), 1), (('privata', 'betsgivare'), 1), (('privata', 'faktiskt'), 1), (('privata', 're'), 1), (('utredningar', 'privatsak'), 1), (('privatsak', 'de'), 1)]\n",
      "===DÉCÉNNIE=== 2\n",
      "[(('den', 'privata'), 5), (('de', 'privatpraktiserande'), 5), (('det', 'privata'), 4), (('privat', 'och'), 4), (('privatperson', 'av'), 4), (('ett', 'privat'), 3), (('för', 'privatperson'), 3), (('privatperson', 'mot'), 3), (('för', 'privata'), 3), (('att', 'privat'), 3), (('skyddet', 'privatperson'), 3), (('privata', 'har'), 3), (('privata', 'det'), 3), (('ang', 'privatperson'), 3), (('som', 'privata'), 3), (('privata', 'näringslivet'), 2), (('privatpraktiserande', 'läkarnas'), 2), (('privatpraktiserande', 'läkarna'), 2), (('de', 'privat'), 2), (('de', 'privata'), 2), (('till', 'privata'), 2), (('privata', 'ger'), 2), (('privat', 'som'), 2), (('av', 'privatpraktiserande'), 2), (('har', 'privat'), 2), (('privatpraktiserande', 'i'), 2), (('statliga', 'privata'), 2), (('av', 'privata'), 2), (('på', 'privata'), 2), (('privatpraktiserande', 'det'), 2), (('privatkapitalistiska', 'har'), 2), (('privatperson', 'lyssning'), 2), (('i', 'privat'), 2), (('privata', 'man'), 2), (('privata', 'för'), 2), (('privata', 'i'), 2), (('privat', 'för'), 2), (('fp', 'privatperson'), 2), (('privata', 'att'), 2), (('privata', 'den'), 2), (('richardson', 'privatperson'), 2), (('privata', 'konsumtionsök'), 1), (('privata', 'konsumtionen'), 1), (('rent', 'privat'), 1), (('privat', 'kapitalistiska'), 1), (('en', 'privat'), 1), (('privat', 'bolagsstyrelse'), 1), (('vilket', 'privat'), 1), (('privat', 'företag'), 1), (('taxebundna', 'privatpraktiserande'), 1), (('fristående', 'privatpraktiserande'), 1), (('privatpraktiserande', 'lä'), 1), (('privat', 'praktiserande'), 1), (('kad', 'privatbilism'), 1), (('privatbilism', 'och'), 1), (('privat', 'byggnadsföretag'), 1), (('med', 'privatpraktikerna'), 1), (('privatpraktikerna', 'jag'), 1), (('beträffande', 'privatpraktikerna'), 1), (('privatpraktikerna', 'så'), 1), (('minst', 'privatpersoner'), 1), (('privatpersoner', 'som'), 1), (('egen', 'privata'), 1), (('privata', 'klinik'), 1), (('ler', 'privatskolorna'), 1), (('privatskolorna', 'en'), 1), (('några', 'privata'), 1), (('privata', 'skolors'), 1), (('bart', 'privatkapitalistiska'), 1), (('privatkapitalistiska', 'förlag'), 1), (('enda', 'privat'), 1), (('privat', 'förlag'), 1), (('av', 'privatkapitalistiska'), 1), (('privatkapitalistiska', 'företag'), 1), (('eller', 'privata'), 1), (('privata', 'de'), 1), (('privata', 'tidningsägarnas'), 1), (('privata', 'ägandet'), 1), (('dold', 'privatfinansiering'), 1), (('privatfinansiering', 'det'), 1), (('privata', 'han'), 1), (('privata', 'sidan'), 1), (('hos', 'privat'), 1), (('privat', 'personer'), 1), (('till', 'privatpraktiserande'), 1), (('privatpraktiserande', 'läkare'), 1), (('vetssak', 'privata'), 1), (('privata', 'angelägenhet'), 1), (('de', 'privatpraktise'), 1), (('privatpraktise', 'rande'), 1), (('för', 'privatper'), 1), (('privatper', 'son'), 1), (('privata', 'alkoholkonsumtionen'), 1), (('utgående', 'privata'), 1), (('privata', 'gå'), 1), (('privata', 'stöd'), 1), (('brutits', 'privata'), 1), (('privata', 'ningen'), 1), (('procent', 'privata'), 1), (('privata', 'med'), 1), (('privat', 'värderingar'), 1), (('än', 'privat'), 1), (('om', 'privatpraktiserande'), 1), (('privatpraktiserande', 'in'), 1), (('privatpraktiserande', 'en'), 1), (('privatpraktiserande', 'tjänstgöringsförhållanden'), 1), (('rent', 'privatpraktiserande'), 1), (('privatpraktiserande', 'karna'), 1), (('privat', 'läkarna'), 1), (('mins', 'privatbilism'), 1), (('privatbilism', 'ett'), 1), (('åt', 'privat'), 1), (('privat', 'vem'), 1), (('inom', 'privata'), 1), (('privata', 'även'), 1), (('avtal', 'privatpraktikerna'), 1), (('privatpraktikerna', 'skall'), 1), (('förmodade', 'privatpraktikerna'), 1), (('privatpraktikerna', 'visar'), 1), (('inte', 'privatpersoner'), 1), (('privatpersoner', 'har'), 1), (('sin', 'privata'), 1), (('privata', 'ingen'), 1), (('gäl', 'privatskolorna'), 1), (('privatskolorna', 'proposition'), 1), (('privata', 'verksamhet'), 1), (('en', 'privatkapitalistiska'), 1), (('privatkapitalistiska', 'som'), 1), (('privat', 'helt'), 1), (('bestämt', 'privatkapitalistiska'), 1), (('privatkapitalistiska', 'om'), 1), (('privata', 'innebär'), 1), (('privata', 'upplagekamp'), 1), (('roll', 'privata'), 1), (('privata', 'som'), 1), (('re', 'privatfinansiering'), 1), (('privatfinansiering', 'bör'), 1), (('dels', 'privata'), 1), (('privata', 'sä'), 1), (('privata', 'där'), 1), (('förmögenhetsfördelningen', 'privat'), 1), (('sjukförsäkringen', 'privatpraktiserande'), 1), (('privatpraktiserande', 'nr'), 1), (('sam', 'privata'), 1), (('privata', 'eller'), 1), (('påverka', 'privatpraktise'), 1), (('privatpraktise', 'juristernas'), 1), (('privatperson', 'avlyssning'), 1), (('skyddet', 'privatper'), 1), (('privatper', 'mot'), 1), (('gäller', 'privata'), 1), (('privata', 'restriktiva'), 1), (('privat', 'ett'), 1), (('privata', 'vor'), 1), (('tillskott', 'privata'), 1), (('privata', 'åt'), 1), (('har', 'privata'), 1), (('privata', 'pekar'), 1), (('95', 'privata'), 1), (('privata', 'nära'), 1), (('med', 'privat'), 1), (('trädare', 'privata'), 1), (('privata', 'uttryck'), 1), (('mig', 'privat'), 1), (('privat', 'dess'), 1), (('principer', 'privat'), 1), (('privat', 'helst'), 1), (('frågan', 'privatpraktiserande'), 1), (('privatpraktiserande', 'placering'), 1), (('garantera', 'privatpraktiserande'), 1), (('privatpraktiserande', 'rimlig'), 1), (('tion', 'privatpraktiserande'), 1), (('privatpraktiserande', 'och'), 1), (('mening', 'privat'), 1), (('privat', 'en'), 1), (('inordnandet', 'privatpraktiserande'), 1), (('en', 'privatbilism'), 1), (('privatbilism', 'ökat'), 1), (('kvot', 'privat'), 1), (('privat', 'är'), 1), (('möjligt', 'privata'), 1), (('privata', 'om'), 1), (('ra', 'privatpraktikerna'), 1), (('privatpraktikerna', 'inte'), 1), (('kaijser', 'privatpraktikerna'), 1), (('privatpraktikerna', 'det'), 1), (('människor', 'privatpersoner'), 1), (('privatpersoner', 'skrivit'), 1), (('det', 'privatskolorna'), 1), (('privatskolorna', 'avsedd'), 1), (('plats', 'privata'), 1), (('privata', 'erfarenheten'), 1), (('funnits', 'privatkapitalistiska'), 1), (('privat', 'fritt'), 1), (('lika', 'privatkapitalistiska'), 1), (('privatkapitalistiska', 'vi'), 1), (('är', 'privata'), 1), (('privata', 'betydande'), 1), (('stimulerad', 'privata'), 1), (('stor', 'privata'), 1), (('privata', 'lägger'), 1), (('mind', 'privatfinansiering'), 1), (('privatfinansiering', 'vara'), 1), (('sektorn', 'privata'), 1), (('sker', 'privata'), 1), (('privata', 'måste'), 1), (('privat', 'framlagt'), 1), (('inom', 'privatpraktiserande'), 1), (('privatpraktiserande', '403'), 1), (('medborgarnas', 'privata'), 1), (('privata', 'hur'), 1), (('måste', 'privatpraktise'), 1), (('privatpraktise', 'verksamhet'), 1), (('privatperson', 'herr'), 1), (('angående', 'privatper'), 1), (('privatper', 'avlyssning'), 1), (('privata', 'be'), 1), (('sak', 'privat'), 1), (('privat', 'kooperativt'), 1), (('förhållande', 'privata'), 1), (('privata', 'olika'), 1), (('industriinvesteringarna', 'privata'), 1), (('privata', 'på'), 1), (('med', 'privata'), 1), (('privata', '50'), 1), (('sig', 'privat'), 1), (('privat', 'målsätt'), 1), (('före', 'privata'), 1), (('tänka', 'privat'), 1), (('privat', 'verk'), 1), (('andra', 'privat'), 1), (('privat', 'herr'), 1), (('en', 'privatpraktiserande'), 1), (('skulle', 'privatpraktiserande'), 1), (('privatpraktiserande', 'inkomst'), 1), (('penetra', 'privatpraktiserande'), 1), (('privatpraktiserande', 'skyldig'), 1), (('och', 'privatpraktiserande'), 1), (('privatpraktiserande', 'fanns'), 1), (('min', 'privat'), 1), (('privat', 'mycket'), 1), (('klara', 'privatpraktiserande'), 1), (('privatpraktiserande', 's'), 1), (('av', 'privatbilism'), 1), (('privatbilism', 'intresse'), 1), (('bostads', 'privat'), 1), (('privat', 'det'), 1), (('någ', 'privatpraktikerna'), 1), (('privatpraktikerna', 'ta'), 1), (('herr', 'privatpraktikerna'), 1), (('privatpraktikerna', 'ytterligare'), 1), (('många', 'privatpersoner'), 1), (('privatpersoner', 'artiklar'), 1), (('ingreppet', 'privata'), 1), (('nu', 'privatskolorna'), 1), (('privatskolorna', 'att'), 1), (('ge', 'privata'), 1), (('privata', 'visar'), 1), (('årtionden', 'privatkapitalistiska'), 1), (('privatkapitalistiska', 'stått'), 1), (('om', 'privat'), 1), (('precis', 'privatkapitalistiska'), 1), (('privata', 'risker'), 1), (('och', 'privata'), 1), (('privata', 'är'), 1), (('en', 'privata'), 1), (('privata', 'hand'), 1), (('eller', 'privatfinansiering'), 1), (('privatfinansiering', 'samhällets'), 1), (('privatperson', '43'), 1), (('liga', 'privata'), 1), (('privata', 'väl'), 1), (('ändringarna', 'privat'), 1), (('privat', 'långtgående'), 1), (('sättningen', 'privatpraktiserande'), 1), (('privatpraktiserande', 'av'), 1), (('privatperson', '71'), 1), (('bli', 'privata'), 1), (('grad', 'privatpraktise'), 1), (('privatpraktise', 'en'), 1), (('beviljades', 'privatperson'), 1), (('privatperson', 'statsrådet'), 1), (('fråga', 'privatper'), 1), (('privatper', 'vilken'), 1), (('då', 'privata'), 1), (('privata', 'stämmelser'), 1), (('huvud', 'privat'), 1), (('privat', 'näringsliv'), 1), (('i', 'privata'), 1), (('privata', 'humanitära'), 1), (('privata', 'tillfredsställande'), 1), (('stigit', 'privata'), 1), (('privata', 'procent'), 1), (('lierat', 'privat'), 1), (('privat', 'ningar'), 1), (('privata', 'utträdet'), 1), (('privat', 'ställande'), 1), (('efter', 'privat'), 1), (('privat', 'talman'), 1), (('gällde', 'privatpraktiserande'), 1), (('privatpraktiserande', 'systemet'), 1), (('ringen', 'privatpraktiserande'), 1), (('privatpraktiserande', 'men'), 1), (('närmare', 'privatpraktiserande'), 1), (('privatpraktiserande', 'heter'), 1), (('vården', 'privatpraktiserande'), 1), (('privatpraktiserande', 'sålunda'), 1), (('enligt', 'privat'), 1), (('privat', 'stor'), 1), (('att', 'privatpraktiserande'), 1), (('privatpraktiserande', 'k'), 1), (('behovet', 'privatbilism'), 1), (('privatbilism', 'för'), 1), (('garanterad', 'privat'), 1), (('jöförhållanden', 'privata'), 1), (('privata', 'ock'), 1), (('stånd', 'privatpraktikerna'), 1), (('privatpraktikerna', 'upp'), 1), (('som', 'privatpraktikerna'), 1), (('privatpraktikerna', 'hur'), 1), (('att', 'privatpersoner'), 1), (('privatpersoner', 'i'), 1), (('göra', 'privata'), 1), (('redan', 'privatskolorna'), 1), (('privatskolorna', 'föreläggas'), 1), (('kan', 'privata'), 1), (('under', 'privatkapitalistiska'), 1), (('privatkapitalistiska', 'för'), 1), (('fråga', 'privat'), 1), (('privat', 'sig'), 1), (('förtryckas', 'privatkapitalistiska'), 1), (('privatkapitalistiska', 'yttrandefrihet'), 1), (('sig', 'privata'), 1), (('färger', 'privata'), 1), (('onekligen', 'privata'), 1), (('privata', 'havandet'), 1), (('mer', 'privatfinansiering'), 1), (('privatfinansiering', 'sak'), 1), (('offent', 'privata'), 1), (('etablering', 'privata'), 1), (('och', 'privat'), 1), (('er', 'privatpraktiserande'), 1), (('privatpraktiserande', 'herr'), 1), (('finge', 'privata'), 1), (('privata', 'vill'), 1), (('hög', 'privatpraktise'), 1), (('privatpraktise', 'annan'), 1), (('ledigheten', 'privatperson'), 1), (('privatperson', 'och'), 1), (('fp', 'privatper'), 1), (('privatper', 'fråga'), 1), (('trafiken', 'privata'), 1), (('privat', 'visst'), 1), (('bidrag', 'privata'), 1), (('privata', 'förut'), 1), (('formerna', 'privata'), 1), (('privata', 'verksamheter'), 1)]\n"
     ]
    }
   ],
   "source": [
    "for i, c_bigrammes_fen_ordonnés in enumerate(c_bigrammes_fen_ordonnés_par_corpus):\n",
    "    #print(fichiers[i], ':')\n",
    "    print('===DÉCÉNNIE===', i + 1)\n",
    "    print(list(filter(lambda x: re.search(chaîne, x[0][0]) or \n",
    "                      re.search(chaîne, x[0][1]), \n",
    "                      c_bigrammes_fen_ordonnés)))"
   ]
  },
  {
   "cell_type": "markdown",
   "metadata": {},
   "source": [
    "Et pour le corpus en entier"
   ]
  },
  {
   "cell_type": "code",
   "execution_count": 30,
   "metadata": {},
   "outputs": [
    {
     "data": {
      "text/plain": [
       "[(('den', 'privata'), 17),\n",
       " (('det', 'privata'), 14),\n",
       " (('med', 'privata'), 9),\n",
       " (('för', 'privata'), 8),\n",
       " (('privata', 'i'), 8),\n",
       " (('privata', 'eller'), 7),\n",
       " (('på', 'privata'), 7),\n",
       " (('som', 'privata'), 7),\n",
       " (('och', 'privata'), 6),\n",
       " (('privata', 'och'), 6),\n",
       " (('de', 'privata'), 6),\n",
       " (('privat', 'och'), 6),\n",
       " (('av', 'privata'), 6),\n",
       " (('privata', 'det'), 6),\n",
       " (('ett', 'privat'), 5),\n",
       " (('de', 'privatpraktiserande'), 5),\n",
       " (('privata', 'den'), 5),\n",
       " (('att', 'privat'), 5),\n",
       " (('privata', 'med'), 5),\n",
       " (('privata', 'har'), 5),\n",
       " (('privata', 'till'), 5)]"
      ]
     },
     "execution_count": 30,
     "metadata": {},
     "output_type": "execute_result"
    }
   ],
   "source": [
    "list(filter(lambda x: (re.search(chaîne, x[0][0]) or \n",
    "                           re.search(chaîne, x[0][1])) and x[1] >= 5, \n",
    "                      corpus_bigrammes_ordonnés_fen))"
   ]
  },
  {
   "cell_type": "markdown",
   "metadata": {},
   "source": [
    "# Mesures de cooccurrence"
   ]
  },
  {
   "cell_type": "markdown",
   "metadata": {},
   "source": [
    "On applique maintenant trois mesures de cooccurrence :\n",
    "* l'information mutuelle de Fano\n",
    "* les t-scores\n",
    "* le rapport de vraisemblance"
   ]
  },
  {
   "cell_type": "markdown",
   "metadata": {},
   "source": [
    "## Information mutuelle"
   ]
  },
  {
   "cell_type": "markdown",
   "metadata": {},
   "source": [
    "Définition de l'information mutuelle"
   ]
  },
  {
   "cell_type": "code",
   "execution_count": 31,
   "metadata": {},
   "outputs": [],
   "source": [
    "def info_mutuelle(c_mots, c_bigrammes, taille):\n",
    "    c_info_mutuelle = {}\n",
    "    for bigramme in c_bigrammes.keys():\n",
    "        c_info_mutuelle[bigramme] = log(taille * c_bigrammes[bigramme] / \n",
    "                                        (c_mots[bigramme[0]] * c_mots[bigramme[1]]), 2.0)\n",
    "    return c_info_mutuelle"
   ]
  },
  {
   "cell_type": "markdown",
   "metadata": {},
   "source": [
    "On ordonne les bigrammes par valeur d'information mutuelle décroissante"
   ]
  },
  {
   "cell_type": "code",
   "execution_count": 32,
   "metadata": {},
   "outputs": [
    {
     "name": "stdout",
     "output_type": "stream",
     "text": [
      "===DÉCÉNNIE=== 1\n",
      "   [(('sydviet', 'nams'), 18.702920061720967), (('salmonella', 'infektion'), 18.702920061720967), (('pari', 'tetslånen'), 18.702920061720967), (('osä', 'kerheten'), 18.702920061720967), (('baletten', 'romeo'), 18.702920061720967), (('inbjudna', 'föreställ'), 18.702920061720967), (('pauserna', 'inbjudes'), 18.702920061720967), (('intaga', 'förfriskningar'), 18.702920061720967), (('publika', 'utrymmen'), 18.702920061720967), (('gäst', 'teckningslistor'), 18.702920061720967)]\n",
      "===DÉCÉNNIE=== 2\n",
      "   [(('flo', 'rén'), 18.613965676332178), (('diumhemmets', 'cancerforskningslabora'), 18.613965676332178), (('cancerforskningslabora', 'torium'), 18.613965676332178), (('yrkesorkestrar', 'framträdanden'), 18.613965676332178), (('musikut', 'budet'), 18.613965676332178), (('ordinära', 'hushållskonsumtionen'), 18.613965676332178), (('elran', 'soneringsnämnden'), 18.613965676332178), (('förlett', 'industriminister'), 18.613965676332178), (('felbedömningen', 'höstregnen'), 18.613965676332178), (('vattentillskott', 'kraftbalanskalkylerna'), 18.613965676332178)]\n"
     ]
    }
   ],
   "source": [
    "c_info_mutuelle_ordonnée_par_corpus = []\n",
    "c_info_mutuelle_par_corpus = []\n",
    "for i, texte_découpé, c_mots, c_bigrammes in zip(range(len(textes)), \n",
    "                                  textes_découpés,\n",
    "                                  c_mots_par_corpus, \n",
    "                                  c_bigrammes_par_corpus):\n",
    "    #print(fichiers[i])\n",
    "    print('===DÉCÉNNIE===', i + 1)\n",
    "    c_info_mutuelle = info_mutuelle(c_mots, c_bigrammes, len(texte_découpé))\n",
    "    c_info_mutuelle_par_corpus += [c_info_mutuelle]\n",
    "    c_info_mutuelle_ordonnée = sorted(c_info_mutuelle.items(), \n",
    "                                      key=operator.itemgetter(1), reverse=True)\n",
    "    print('  ', c_info_mutuelle_ordonnée[:10])\n",
    "    c_info_mutuelle_ordonnée_par_corpus += [c_info_mutuelle_ordonnée]"
   ]
  },
  {
   "cell_type": "markdown",
   "metadata": {},
   "source": [
    "L'information mutuelle des mots plus fréquents avec un seuil. Le seuil est assez haut pour le pas avoir trop d'affichages"
   ]
  },
  {
   "cell_type": "code",
   "execution_count": 33,
   "metadata": {},
   "outputs": [
    {
     "name": "stdout",
     "output_type": "stream",
     "text": [
      "===DÉCÉNNIE=== 1\n",
      "   10.664001072428661 \t ('bl', 'a') \t 211 \t 211 \t 263\n",
      "   10.091895264413612 \t ('maj', 'ts') \t 221 \t 391 \t 221\n",
      "   10.048826542521725 \t ('kungl', 'maj') \t 363 \t 374 \t 391\n",
      "   8.33322073241565 \t ('januari', '1970') \t 417 \t 530 \t 1041\n",
      "   8.240373855843286 \t ('februari', '1970') \t 256 \t 347 \t 1041\n",
      "   7.788799950201567 \t ('m', 'fl') \t 677 \t 1690 \t 773\n",
      "   6.534463638396202 \t ('herr', 'talman') \t 956 \t 4486 \t 981\n",
      "   6.315979816396654 \t ('nr', '3') \t 216 \t 2678 \t 432\n",
      "   6.135453450276567 \t ('bifall', 'till') \t 201 \t 207 \t 5894\n",
      "   6.119729814888405 \t ('onsdagen', 'den') \t 455 \t 456 \t 6123\n",
      "   6.118063940231146 \t ('torsdagen', 'den') \t 298 \t 299 \t 6123\n",
      "   6.077895112099625 \t ('nr', '2') \t 209 \t 2678 \t 493\n",
      "   5.978751921631565 \t ('svar', 'på') \t 259 \t 372 \t 4711\n",
      "   5.8760715794139715 \t ('jag', 'tror') \t 235 \t 4505 \t 379\n",
      "   5.84853155325895 \t ('chefen', 'för') \t 289 \t 300 \t 7134\n",
      "   5.603288801844571 \t ('herr', 'statsrådet') \t 254 \t 4486 \t 497\n",
      "   5.570042366399727 \t ('en', 'sådan') \t 221 \t 6108 \t 325\n",
      "   5.4730440654294465 \t ('fl', 'om') \t 446 \t 773 \t 5543\n",
      "   5.456340173380698 \t ('av', 'herrar') \t 266 \t 8286 \t 312\n",
      "   5.401963242213753 \t ('m', 'm') \t 283 \t 1690 \t 1690\n",
      "   5.292225463097236 \t ('1970', 'nr') \t 256 \t 1041 \t 2678\n",
      "   5.052397601676674 \t ('anledning', 'av') \t 337 \t 523 \t 8286\n",
      "   5.033945667816844 \t ('frågan', 'om') \t 223 \t 524 \t 5543\n",
      "   4.900758398256879 \t ('jag', 'vill') \t 322 \t 4505 \t 1021\n",
      "   4.867780917069628 \t ('i', 'dag') \t 321 \t 12060 \t 389\n",
      "   4.818916530869084 \t ('det', 'gäller') \t 336 \t 8639 \t 588\n",
      "   4.772157587632707 \t ('talman', 'jag') \t 283 \t 981 \t 4505\n",
      "   4.388407622827799 \t ('det', 'finns') \t 265 \t 8639 \t 625\n",
      "   4.347930315446278 \t ('i', 'anledning') \t 301 \t 12060 \t 523\n",
      "   4.330973168920765 \t ('fråga', 'om') \t 263 \t 1006 \t 5543\n",
      "   4.140772604754041 \t ('av', 'fru') \t 211 \t 8286 \t 616\n",
      "   3.9534172192685113 \t ('kommer', 'att') \t 391 \t 787 \t 13685\n",
      "   3.864454506248736 \t ('att', 'få') \t 419 \t 13685 \t 897\n",
      "   3.7909396445158263 \t ('vad', 'som') \t 231 \t 975 \t 7304\n",
      "   3.766333199269515 \t ('när', 'det') \t 254 \t 922 \t 8639\n",
      "   3.7533376455373086 \t ('det', 'är') \t 1453 \t 8639 \t 5322\n",
      "   3.5905755865366387 \t ('men', 'jag') \t 204 \t 1604 \t 4505\n",
      "   3.560870600849363 \t ('av', 'herr') \t 1028 \t 8286 \t 4486\n",
      "   3.5030940682108764 \t ('vi', 'har') \t 372 \t 2837 \t 4935\n",
      "   2.994826872333815 \t ('att', 'man') \t 634 \t 13685 \t 2480\n",
      "   2.942910333026097 \t ('att', 'han') \t 200 \t 13685 \t 811\n",
      "   2.8892313389443838 \t ('jag', 'har') \t 386 \t 4505 \t 4935\n",
      "   2.8117030406365084 \t ('men', 'det') \t 228 \t 1604 \t 8639\n",
      "   2.731811350560899 \t ('om', 'man') \t 214 \t 5543 \t 2480\n",
      "   2.4896412931319074 \t ('att', 'vi') \t 511 \t 13685 \t 2837\n",
      "   2.4225117504624256 \t ('i', 'detta') \t 255 \t 12060 \t 1683\n",
      "   2.329035914025269 \t ('som', 'vi') \t 244 \t 7304 \t 2837\n",
      "   2.287530217485148 \t ('för', 'att') \t 1117 \t 7134 \t 13685\n",
      "   2.2521188646636303 \t ('så', 'att') \t 242 \t 1584 \t 13685\n",
      "   2.1148419135098933 \t ('som', 'jag') \t 334 \t 7304 \t 4505\n",
      "   2.0533817845061058 \t ('att', 'det') \t 1150 \t 13685 \t 8639\n",
      "   2.006741872631192 \t ('är', 'det') \t 433 \t 5322 \t 8639\n",
      "   1.8635939826384074 \t ('på', 'den') \t 246 \t 4711 \t 6123\n",
      "   1.8547595139131823 \t ('av', 'de') \t 298 \t 8286 \t 4243\n",
      "   1.8139337631937478 \t ('som', 'har') \t 297 \t 7304 \t 4935\n",
      "   1.7876019091941948 \t ('är', 'en') \t 263 \t 5322 \t 6108\n",
      "   1.7540339435915744 \t ('till', 'herr') \t 209 \t 5894 \t 4486\n",
      "   1.697045648907791 \t ('för', 'de') \t 230 \t 7134 \t 4243\n",
      "   1.6956089718310163 \t ('om', 'en') \t 257 \t 5543 \t 6108\n",
      "   1.6699664989046341 \t ('att', 'de') \t 433 \t 13685 \t 4243\n",
      "   1.6605766404988618 \t ('det', 'inte') \t 258 \t 8639 \t 4031\n",
      "   1.578112203379926 \t ('av', 'den') \t 355 \t 8286 \t 6123\n",
      "   1.5742628227624749 \t ('i', 'ett') \t 212 \t 12060 \t 2519\n",
      "   1.5130640297429763 \t ('som', 'är') \t 260 \t 7304 \t 5322\n",
      "   1.2931079690517349 \t ('om', 'det') \t 275 \t 5543 \t 8639\n",
      "   1.2507527180630815 \t ('för', 'en') \t 243 \t 7134 \t 6108\n",
      "   1.2472140971060575 \t ('för', 'den') \t 243 \t 7134 \t 6123\n",
      "   1.245260559574837 \t ('till', 'en') \t 200 \t 5894 \t 6108\n",
      "   1.1700171449563956 \t ('om', 'att') \t 400 \t 5543 \t 13685\n",
      "   1.1625767315836795 \t ('och', 'jag') \t 214 \t 9055 \t 4505\n",
      "   1.076076237214095 \t ('att', 'den') \t 414 \t 13685 \t 6123\n",
      "   1.069977542012986 \t ('av', 'en') \t 249 \t 8286 \t 6108\n",
      "   1.0440149513102295 \t ('och', 'det') \t 378 \t 9055 \t 8639\n",
      "   0.8687355553567442 \t ('i', 'den') \t 316 \t 12060 \t 6123\n",
      "   0.7504638576290003 \t ('till', 'att') \t 318 \t 5894 \t 13685\n",
      "   0.7261676647484927 \t ('att', 'jag') \t 239 \t 13685 \t 4505\n",
      "   0.6019164296741156 \t ('i', 'en') \t 262 \t 12060 \t 6108\n",
      "   0.5156821329641925 \t ('på', 'att') \t 216 \t 4711 \t 13685\n",
      "   0.39175244986567176 \t ('att', 'en') \t 257 \t 13685 \t 6108\n",
      "   0.31277990700962416 \t ('är', 'att') \t 212 \t 5322 \t 13685\n",
      "   0.10724815543154236 \t ('i', 'det') \t 263 \t 12060 \t 8639\n",
      "   -0.26899734213892357 \t ('och', 'att') \t 241 \t 9055 \t 13685\n",
      "===DÉCÉNNIE=== 2\n",
      "   9.622443830256481 \t ('maj', 'ts') \t 243 \t 509 \t 243\n",
      "   9.52722114957665 \t ('kungl', 'maj') \t 469 \t 501 \t 509\n",
      "   8.847687992076496 \t ('maj', 't') \t 211 \t 509 \t 361\n",
      "   8.120454009069869 \t ('januari', '1970') \t 358 \t 481 \t 1073\n",
      "   8.108238463996509 \t ('mars', '1970') \t 200 \t 271 \t 1073\n",
      "   7.479899603031486 \t ('m', 'fl') \t 506 \t 2038 \t 558\n",
      "   7.136485330589566 \t ('statsverkspropositionen', 'm') \t 233 \t 326 \t 2038\n",
      "   6.4249840462084 \t ('herr', 'talman') \t 878 \t 4515 \t 908\n",
      "   6.145880745935453 \t ('bifall', 'till') \t 238 \t 245 \t 5504\n",
      "   6.079220669807742 \t ('jag', 'tror') \t 220 \t 3980 \t 328\n",
      "   6.047742553980447 \t ('onsdagen', 'den') \t 484 \t 488 \t 6015\n",
      "   6.0241678182644485 \t ('torsdagen', 'den') \t 201 \t 206 \t 6015\n",
      "   5.739224674235257 \t ('m', 'm') \t 553 \t 2038 \t 2038\n",
      "   5.196697224118408 \t ('1970', 'nr') \t 256 \t 1073 \t 2610\n",
      "   5.1757794132045705 \t ('jag', 'vill') \t 303 \t 3980 \t 845\n",
      "   5.165732022353751 \t ('fl', 'om') \t 264 \t 558 \t 5288\n",
      "   5.136309772970296 \t ('anledning', 'av') \t 383 \t 566 \t 7719\n",
      "   4.854931074660273 \t ('i', 'dag') \t 317 \t 10693 \t 411\n",
      "   4.828864473610251 \t ('talman', 'jag') \t 256 \t 908 \t 3980\n",
      "   4.8137153677769255 \t ('det', 'gäller') \t 332 \t 8503 \t 557\n",
      "   4.794442418440075 \t ('fråga', 'om') \t 297 \t 812 \t 5288\n",
      "   4.5153809370361975 \t ('i', 'anledning') \t 345 \t 10693 \t 566\n",
      "   4.387570067630684 \t ('det', 'finns') \t 295 \t 8503 \t 665\n",
      "   3.8778791161806723 \t ('när', 'det') \t 296 \t 950 \t 8503\n",
      "   3.8269358396569264 \t ('att', 'få') \t 374 \t 13102 \t 807\n",
      "   3.7966085794641096 \t ('kommer', 'att') \t 334 \t 736 \t 13102\n",
      "   3.7654733360177812 \t ('vad', 'som') \t 246 \t 1059 \t 6853\n",
      "   3.756473854619052 \t ('av', 'herr') \t 1174 \t 7719 \t 4515\n",
      "   3.7384634394068064 \t ('det', 'är') \t 1368 \t 8503 \t 4836\n",
      "   3.7014087822459967 \t ('vi', 'har') \t 372 \t 2479 \t 4628\n",
      "   2.918133898142929 \t ('men', 'det') \t 227 \t 1417 \t 8503\n",
      "   2.901304577966488 \t ('jag', 'har') \t 343 \t 3980 \t 4628\n",
      "   2.88067429136863 \t ('att', 'man') \t 596 \t 13102 \t 2478\n",
      "   2.688934759959183 \t ('i', 'detta') \t 270 \t 10693 \t 1571\n",
      "   2.6709384608249755 \t ('om', 'man') \t 208 \t 5288 \t 2478\n",
      "   2.508792484814117 \t ('som', 'vi') \t 241 \t 6853 \t 2479\n",
      "   2.503274030374156 \t ('att', 'vi') \t 459 \t 13102 \t 2479\n",
      "   2.3167823631475475 \t ('så', 'att') \t 260 \t 1598 \t 13102\n",
      "   2.2708079593976724 \t ('för', 'att') \t 1014 \t 6434 \t 13102\n",
      "   2.1311825592620557 \t ('är', 'det') \t 449 \t 4836 \t 8503\n",
      "   2.0273682633168075 \t ('att', 'det') \t 1132 \t 13102 \t 8503\n",
      "   1.9416971180128897 \t ('är', 'en') \t 277 \t 4836 \t 5982\n",
      "   1.9240912460592687 \t ('som', 'har') \t 300 \t 6853 \t 4628\n",
      "   1.8231683315343208 \t ('om', 'en') \t 279 \t 5288 \t 5982\n",
      "   1.8015439626616625 \t ('av', 'de') \t 256 \t 7719 \t 3817\n",
      "   1.7940687265688622 \t ('på', 'den') \t 227 \t 4366 \t 6015\n",
      "   1.7457830034046082 \t ('som', 'jag') \t 228 \t 6853 \t 3980\n",
      "   1.7421463452761754 \t ('att', 'de') \t 417 \t 13102 \t 3817\n",
      "   1.6964461060484541 \t ('det', 'inte') \t 249 \t 8503 \t 3625\n",
      "   1.5838032318499664 \t ('till', 'en') \t 246 \t 5504 \t 5982\n",
      "   1.5114042420280216 \t ('för', 'den') \t 275 \t 6434 \t 6015\n",
      "   1.4898281705493264 \t ('som', 'är') \t 232 \t 6853 \t 4836\n",
      "   1.4467270756397077 \t ('i', 'den') \t 437 \t 10693 \t 6015\n",
      "   1.4354372587464004 \t ('av', 'den') \t 313 \t 7719 \t 6015\n",
      "   1.3073168268761852 \t ('på', 'det') \t 229 \t 4366 \t 8503\n",
      "   1.2986963099219277 \t ('för', 'en') \t 236 \t 6434 \t 5982\n",
      "   1.260553251227542 \t ('det', 'har') \t 235 \t 8503 \t 4628\n",
      "   1.1789845788467306 \t ('om', 'att') \t 391 \t 5288 \t 13102\n",
      "   1.1589797879517467 \t ('av', 'en') \t 257 \t 7719 \t 5982\n",
      "   1.0118819546775284 \t ('om', 'det') \t 226 \t 5288 \t 8503\n",
      "   1.0114738410632407 \t ('att', 'den') \t 396 \t 13102 \t 6015\n",
      "   0.786462241495218 \t ('i', 'en') \t 275 \t 10693 \t 5982\n",
      "   0.7592732411407184 \t ('att', 'jag') \t 220 \t 13102 \t 3980\n",
      "   0.6950768312532558 \t ('till', 'att') \t 291 \t 5504 \t 13102\n",
      "   0.6772598422210204 \t ('på', 'att') \t 228 \t 4366 \t 13102\n",
      "   0.5649098839397484 \t ('och', 'det') \t 269 \t 8580 \t 8503\n",
      "   0.5333824102584874 \t ('i', 'det') \t 328 \t 10693 \t 8503\n",
      "   0.4584189462424256 \t ('är', 'att') \t 217 \t 4836 \t 13102\n",
      "   0.4124218609561723 \t ('att', 'en') \t 260 \t 13102 \t 5982\n",
      "   -0.31651449812280097 \t ('och', 'att') \t 225 \t 8580 \t 13102\n"
     ]
    }
   ],
   "source": [
    "seuil = 200\n",
    "for i, c_mots, c_bigrammes, c_info_mutuelle, c_info_mutuelle_ordonnée in zip(\n",
    "    range(len(textes)),\n",
    "    c_mots_par_corpus,\n",
    "    c_bigrammes_par_corpus,\n",
    "    c_info_mutuelle_par_corpus,\n",
    "    c_info_mutuelle_ordonnée_par_corpus):\n",
    "    #print(fichiers[i])\n",
    "    print('===DÉCÉNNIE===', i + 1)\n",
    "    for bigramme_im in c_info_mutuelle_ordonnée:\n",
    "        if c_bigrammes[bigramme_im[0]] >= seuil:\n",
    "            #mots_du_bigramme = bigramme_im[0].split()\n",
    "            print('  ', c_info_mutuelle[bigramme_im[0]], \"\\t\", \n",
    "                  bigramme_im[0], \"\\t\", c_bigrammes[bigramme_im[0]], \"\\t\",\n",
    "                  c_mots[bigramme_im[0][0]], \"\\t\", c_mots[bigramme_im[0][1]])"
   ]
  },
  {
   "cell_type": "markdown",
   "metadata": {},
   "source": [
    "Les bigrammes avec la séquence qu'on recherche ordonnés par information mutuelle "
   ]
  },
  {
   "cell_type": "code",
   "execution_count": 34,
   "metadata": {},
   "outputs": [
    {
     "name": "stdout",
     "output_type": "stream",
     "text": [
      "===DÉCÉNNIE=== 1\n",
      "[(('privatsko', 'lors'), 17.702920061720967), (('privatskoledödens', 'tide'), 17.702920061720967), (('fåtal', 'privatpersoner'), 16.702920061720967), (('privatsko', 'lorna'), 16.702920061720967), (('privatpersoner', 'erfarenheten'), 16.11795756099981), (('livaktig', 'privat'), 14.895565139663361), (('privat', 'arkitektverksamhet'), 14.895565139663361), (('privatpraktiserande', 'läkare'), 14.615457220470624), (('vanliga', 'privatkapitalister'), 14.454992548277378), (('privat', 'kapitalister'), 13.895565139663361), (('privata', 'företagsformer'), 13.34536805710288), (('privata', 'konsumtio'), 13.34536805710288), (('privata', 'försäkringsspa'), 13.34536805710288), (('stimulera', 'privatskole'), 13.34536805710288), (('privatskole', 'verksamheten'), 13.34536805710288), (('privat', 'företagar'), 13.310602638942203), (('regeringens', 'privatsak'), 12.636830871263193), (('privat', 'regi'), 12.573637044775998), (('privata', 'kapitalbildningen'), 12.34536805710288), (('nadsverksamheten', 'privata'), 12.34536805710288), (('privat', 'sektor'), 12.088210217605756), (('privatkapitalistiska', 'företagen'), 12.002480343579874), (('privata', 'intressenter'), 11.760405556381725), (('privat', 'företagsamhet'), 11.647637626219776), (('bedriva', 'privat'), 11.573637044775998), (('privata', 'konsumtionen'), 11.34536805710288), (('privat', 'bolag'), 11.088210217605756), (('delen', 'privatskolor'), 11.05906387194624), (('privata', 'stiftelser'), 10.760405556381725), (('tressen', 'privata'), 10.760405556381725), (('underlätta', 'privat'), 10.573637044775998), (('privatskolorna', 'hör'), 10.403712043333686), (('privat', 'skolor'), 10.372003183606347), (('privat', 'spe'), 10.195125421522269), (('jämväl', 'privata'), 10.175443055660567), (('privat', 'initiativ'), 9.80810229841302), (('begreppet', 'privata'), 9.644928338961789), (('privatskolorna', 'des'), 9.387770499464663), (('sådan', 'privatskoledöd'), 9.358624153805147), (('privata', 'lokalise'), 9.345368057102881), (('privata', 'kapitalet'), 9.175443055660567), (('svenska', 'privatsko'), 9.121719479796008), (('privata', 'intres'), 9.023439962215518), (('privata', 'sparandet'), 8.987816052484796), (('privata', 'företagsamheten'), 8.95305063432412), (('privat', 'kapital'), 8.851171020304907), (('antalet', 'privat'), 8.68611177403441), (('intressen', 'privata'), 8.512478042938138), (('privata', 'näringslivet'), 8.46272500774104), (('privata', 'ekono'), 8.345368057102881), (('privata', 'industrin'), 8.216085040157914), (('privatskolor', 'na'), 8.179358105663951), (('mot', 'privatskolorna'), 7.582682184379004), (('denna', 'privatskoledöd'), 7.541788178736658), (('gäller', 'privatskolor'), 7.5032477168846), (('alltså', 'privatskolorna'), 7.3564063285553285), (('såväl', 'privata'), 7.216085040157914), (('privata', 'området'), 7.116549366607), (('privatskolorna', 'bör'), 6.997719683657849), (('större', 'privat'), 6.7407470306112565), (('de', 'privatkapitalistiska'), 6.652051098430228), (('privata', 'företagen'), 6.644928338961788), (('privata', 'kon'), 6.550952190752774), (('privata', 'företag'), 6.531586865885843), (('privata', 'eller'), 6.313781714045048), (('privat', 'eller'), 6.279016295884371), (('till', 'privatpraktiserande'), 6.177888716596963), (('privatfinansiering', 'en'), 6.126435714924112), (('privata', 'ekonomiska'), 6.126199536640718), (('privatskolorna', 'dessa'), 6.076982962182502), (('för', 'privatfinansiering'), 5.9024245612541515), (('också', 'privatskolorna'), 5.870425577384851), (('privata', 'före'), 5.624268868395696), (('privata', 'ar'), 5.610658436877042), (('privatkapitalister', 'och'), 5.5584211358834335), (('sådana', 'privata'), 5.3911717467160045), (('mycket', 'privat'), 5.299375383518949), (('i', 'privatskoledödens'), 5.144977774933517), (('privatsak', 'i'), 5.144977774933517), (('var', 'privat'), 5.142348390484405), (('privatskoledöd', 'som'), 4.868449011736742), (('privata', 'svenska'), 4.764167475177923), (('de', 'privatskolor'), 4.652051098430228), (('ett', 'privat'), 4.5969297329291186), (('från', 'privat'), 4.583816824658401), (('privatskoledöd', 'och'), 4.5584211358834335), (('sig', 'privat'), 4.492553116088363), (('privata', 'sedan'), 4.471923944587504), (('del', 'privata'), 4.468851110537881), (('till', 'privatskolorna'), 4.37053379453936), (('den', 'privata'), 4.224776707986302), (('privatskolor', 'i'), 4.144977774933517), (('i', 'privatsko'), 4.144977774933517), (('privatskolorna', 'inte'), 3.91864307181228), (('privatskolor', 'som'), 3.868449011736742), (('som', 'privatskolor'), 3.868449011736742), (('eller', 'privata'), 3.7288192133238907), (('privatskolorna', 'är'), 3.51781234464114), (('de', 'privata'), 3.2944990938121443), (('med', 'privata'), 3.159666664907277), (('det', 'privata'), 3.0760743703662072), (('privatskolorna', 'i'), 2.3376228528759126), (('privata', 'och'), 2.20086913126535), (('att', 'privatskolorna'), 2.155257325411041), (('för', 'privat'), 2.0950696391965478), (('privata', 'man'), 2.0692436518286423), (('av', 'privat'), 1.8791050346841527), (('och', 'privat'), 1.7510662138258295), (('för', 'privata'), 1.5448725566360684), (('och', 'privata'), 1.20086913126535), (('på', 'privata'), 1.143550440434959), (('är', 'privata'), 0.9676152620806602), (('privata', 'om'), 0.9089167648159058), (('privata', 'som'), 0.5108970071186582)]\n",
      "===DÉCÉNNIE=== 2\n",
      "[(('dold', 'privatfinansiering'), 18.613965676332178), (('kad', 'privatbilism'), 16.613965676332178), (('taxebundna', 'privatpraktiserande'), 16.02900317561102), (('privat', 'kapitalistiska'), 15.613965676332176), (('privat', 'bolagsstyrelse'), 15.613965676332176), (('privat', 'praktiserande'), 15.613965676332176), (('privatpraktiserande', 'läkarnas'), 15.444040674889866), (('privatkapitalistiska', 'förlag'), 15.292037581444816), (('privata', 'konsumtionsök'), 14.707075080723659), (('privata', 'klinik'), 14.707075080723659), (('privata', 'skolors'), 14.707075080723659), (('privata', 'tidningsägarnas'), 14.707075080723659), (('privata', 'ägandet'), 14.707075080723659), (('vetssak', 'privata'), 14.707075080723659), (('privata', 'alkoholkonsumtionen'), 14.707075080723659), (('privat', 'byggnadsföretag'), 14.613965676332176), (('privatpraktiserande', 'läkarna'), 14.444040674889866), (('fristående', 'privatpraktiserande'), 13.707075080723657), (('bart', 'privatkapitalistiska'), 13.707075080723657), (('privat', 'förlag'), 13.292037581444815), (('utgående', 'privata'), 12.70707508072366), (('privatpraktise', 'rande'), 12.204574740194476), (('privatper', 'son'), 12.204574740194476), (('ler', 'privatskolorna'), 12.106171036133482), (('minst', 'privatpersoner'), 11.695102439057582), (('privata', 'konsumtionen'), 11.537150079281346), (('privatpraktiserande', 'läkare'), 11.274115673447552), (('privatpraktiserande', 'lä'), 11.221648253553417), (('privata', 'angelägenhet'), 11.122112580002502), (('rent', 'privat'), 10.256413671714094), (('beträffande', 'privatpraktikerna'), 10.187700921630078), (('privata', 'näringslivet'), 10.034649738752163), (('privatkapitalistiska', 'företag'), 9.913525958191086), (('privatperson', 'mot'), 9.64818139167009), (('enda', 'privat'), 9.484682659387211), (('privat', 'personer'), 9.404512310703227), (('hos', 'privat'), 8.602738420908922), (('egen', 'privata'), 8.385146985836295), (('privata', 'sidan'), 8.152486229046021), (('privat', 'företag'), 7.913525958191085), (('vilket', 'privat'), 7.8130657764118725), (('privata', 'stöd'), 7.662680961365206), (('privata', 'gå'), 7.1221125800025025), (('privatpraktikerna', 'så'), 6.9719139834042), (('de', 'privatpraktise'), 6.7157422051166185), (('några', 'privata'), 6.251747860419098), (('privatskolorna', 'en'), 6.067553481212825), (('för', 'privatperson'), 5.962465455679438), (('för', 'privatper'), 5.962465455679438), (('privatpersoner', 'som'), 5.871445704670878), (('med', 'privatpraktikerna'), 5.841651102410525), (('de', 'privatpraktiserande'), 5.7157422051166185), (('privatpraktikerna', 'jag'), 5.655412960901166), (('privatfinansiering', 'det'), 5.560209453770033), (('privatbilism', 'och'), 5.547203743945269), (('ett', 'privat'), 5.388155735708634), (('eller', 'privata'), 5.247643462086361), (('privata', 'han'), 5.107162238536531), (('av', 'privatkapitalistiska'), 4.699767433877221), (('den', 'privata'), 4.474654153547582), (('de', 'privat'), 3.715742205116619), (('till', 'privatpraktiserande'), 3.602738420908923), (('det', 'privata'), 3.23828135888267), (('en', 'privat'), 3.067553481212825), (('privata', 'de'), 2.8088516095081), (('de', 'privata'), 2.8088516095081), (('privat', 'och'), 2.5472037439452686), (('till', 'privata'), 2.2808103260215606)]\n"
     ]
    }
   ],
   "source": [
    "for i, corpus in enumerate(c_info_mutuelle_ordonnée_par_corpus):\n",
    "    print('===DÉCÉNNIE===', i + 1)\n",
    "    print(list(filter(lambda x: re.search(chaîne, x[0][0]) or re.search(chaîne, x[0][1]), corpus)))"
   ]
  },
  {
   "cell_type": "markdown",
   "metadata": {},
   "source": [
    "## t-scores"
   ]
  },
  {
   "cell_type": "markdown",
   "metadata": {},
   "source": [
    "Définition des t-scores"
   ]
  },
  {
   "cell_type": "code",
   "execution_count": 35,
   "metadata": {},
   "outputs": [],
   "source": [
    "def t_scores(words, freq_unigrams, freq_bigrams):\n",
    "    ts = {}\n",
    "    for bigram in freq_bigrams:\n",
    "        ts[bigram] = ((freq_bigrams[bigram] -\n",
    "                      freq_unigrams[bigram[0]] *\n",
    "                      freq_unigrams[bigram[1]] /\n",
    "                      len(words)) /\n",
    "                      sqrt(freq_bigrams[bigram]))\n",
    "    return ts"
   ]
  },
  {
   "cell_type": "markdown",
   "metadata": {},
   "source": [
    "On calcule les t-scores et on affiche les plus hauts"
   ]
  },
  {
   "cell_type": "code",
   "execution_count": 36,
   "metadata": {},
   "outputs": [
    {
     "name": "stdout",
     "output_type": "stream",
     "text": [
      "===DÉCÉNNIE=== 1\n",
      "   [(('det', 'är'), 35.291629051702536), (('herr', 'talman'), 30.585700865281023), (('av', 'herr'), 29.345576356052074), (('för', 'att'), 26.57595220196471), (('m', 'fl'), 25.901562829412054), (('att', 'det'), 25.74169969313452), (('att', 'man'), 22.020630963129907), (('onsdagen', 'den'), 21.023979793628374), (('fl', 'om'), 20.64324878438371), (('januari', '1970'), 20.357261104944765)]\n",
      "===DÉCÉNNIE=== 2\n",
      "   [(('det', 'är'), 34.21537624997892), (('av', 'herr'), 31.72842202104419), (('herr', 'talman'), 29.286211518054657), (('att', 'det'), 25.391966170654342), (('för', 'att'), 25.244981423215492), (('m', 'm'), 23.07571782373265), (('m', 'fl'), 22.368434889460694), (('onsdagen', 'den'), 21.667439422225677), (('kungl', 'maj'), 21.627057897016748), (('att', 'man'), 21.098338477797416)]\n"
     ]
    }
   ],
   "source": [
    "c_t_scores_ordonnée_par_corpus = []\n",
    "c_t_scores_par_corpus = []\n",
    "for i, texte_découpé, c_mots, c_bigrammes in zip(range(len(textes)), \n",
    "                                  textes_découpés,\n",
    "                                  c_mots_par_corpus, \n",
    "                                  c_bigrammes_par_corpus):\n",
    "    # print(fichiers[i])\n",
    "    print('===DÉCÉNNIE===', i + 1)\n",
    "    c_t_scores = t_scores(texte_découpé, c_mots, c_bigrammes)\n",
    "    c_t_scores_par_corpus += [c_t_scores]\n",
    "    c_t_scores_ordonnée = sorted(c_t_scores.items(), \n",
    "                                      key=operator.itemgetter(1), reverse=True)\n",
    "    print('  ', c_t_scores_ordonnée[:10])\n",
    "    c_t_scores_ordonnée_par_corpus += [c_t_scores_ordonnée]"
   ]
  },
  {
   "cell_type": "markdown",
   "metadata": {},
   "source": [
    "Les bigrammes avec la séquence qu'on recherche ordonnés par t-scores "
   ]
  },
  {
   "cell_type": "code",
   "execution_count": 37,
   "metadata": {},
   "outputs": [
    {
     "name": "stdout",
     "output_type": "stream",
     "text": [
      "===DÉCÉNNIE=== 1\n",
      "[(('den', 'privata'), 3.1392418586305433), (('privata', 'eller'), 2.4186977395853226), (('det', 'privata'), 2.3320196379055758), (('de', 'privata'), 1.7961611559886295), (('privata', 'och'), 1.5649868648307894), (('med', 'privata'), 1.5382274176816908), (('privat', 'företagsamhet'), 1.4137727774880409), (('privata', 'stiftelser'), 1.4133982760443484), (('privata', 'sparandet'), 1.4114280007498774), (('intressen', 'privata'), 1.4103409523115484), (('privata', 'näringslivet'), 1.4102050712567573), (('mot', 'privatskolorna'), 1.4068362153495584), (('privata', 'företag'), 1.3989269437090954), (('privat', 'eller'), 1.3960021868590187), (('ett', 'privat'), 1.3557747662967146), (('till', 'privatskolorna'), 1.3458455067807595), (('privatskolor', 'i'), 1.334275732091107), (('privatsko', 'lors'), 0.9999953130529133), (('privatskoledödens', 'tide'), 0.9999953130529133), (('fåtal', 'privatpersoner'), 0.9999906261058266), (('privatsko', 'lorna'), 0.9999906261058266), (('privatpersoner', 'erfarenheten'), 0.9999859391587399), (('livaktig', 'privat'), 0.999967191370393), (('privat', 'arkitektverksamhet'), 0.999967191370393), (('privatpraktiserande', 'läkare'), 0.9999601609497629), (('vanliga', 'privatkapitalister'), 0.9999554740026763), (('privat', 'kapitalister'), 0.999934382740786), (('privata', 'företagsformer'), 0.9999039175847224), (('privata', 'konsumtio'), 0.9999039175847224), (('privata', 'försäkringsspa'), 0.9999039175847224), (('stimulera', 'privatskole'), 0.9999039175847224), (('privatskole', 'verksamheten'), 0.9999039175847224), (('privat', 'företagar'), 0.9999015741111791), (('regeringens', 'privatsak'), 0.9998429872725952), (('privat', 'regi'), 0.9998359568519651), (('privata', 'kapitalbildningen'), 0.9998078351694448), (('nadsverksamheten', 'privata'), 0.9998078351694448), (('privat', 'sektor'), 0.9997703395927512), (('privatkapitalistiska', 'företagen'), 0.9997562787514911), (('privata', 'intressenter'), 0.9997117527541672), (('bedriva', 'privat'), 0.9996719137039303), (('privata', 'konsumtionen'), 0.9996156703388898), (('privat', 'bolag'), 0.9995406791855024), (('delen', 'privatskolor'), 0.9995313052913289), (('tressen', 'privata'), 0.9994235055083346), (('underlätta', 'privat'), 0.9993438274078604), (('privatskolorna', 'hör'), 0.999261805833843), (('privat', 'skolor'), 0.9992454015190395), (('privat', 'spe'), 0.9991469756302186), (('jämväl', 'privata'), 0.9991352582625018), (('privat', 'initiativ'), 0.9988845065933628), (('begreppet', 'privata'), 0.9987509286013916), (('privatskolorna', 'des'), 0.9985072073528826), (('sådan', 'privatskoledöd'), 0.9984767421968189), (('privata', 'lokalise'), 0.9984626813555588), (('privata', 'kapitalet'), 0.9982705165250036), (('svenska', 'privatsko'), 0.9982048992657897), (('privata', 'intres'), 0.9980783516944486), (('privata', 'företagsamheten'), 0.997982269279171), (('privat', 'kapital'), 0.9978346304459396), (('antalet', 'privat'), 0.9975721614090838), (('privata', 'ekono'), 0.9969253627111176), (('privata', 'industrin'), 0.996637115465285), (('privatskolor', 'na'), 0.9965504069441808), (('denna', 'privatskoledöd'), 0.9946334455857161), (('gäller', 'privatskolor'), 0.994488150226028), (('alltså', 'privatskolorna'), 0.9938975948931025), (('såväl', 'privata'), 0.9932742309305699), (('privata', 'området'), 0.992793818854182), (('privatskolorna', 'bör'), 0.9921751418387362), (('större', 'privat'), 0.9906495405620118), (('de', 'privatkapitalistiska'), 0.9900566417555429), (('privata', 'företagen'), 0.9900074288111325), (('privata', 'kon'), 0.9893348519041895), (('till', 'privatpraktiserande'), 0.9861875669354631), (('privatfinansiering', 'en'), 0.985686063597185), (('privata', 'ekonomiska'), 0.9856837201236417), (('privatskolorna', 'dessa'), 0.9851869037324503), (('för', 'privatfinansiering'), 0.9832816597417023), (('också', 'privatskolorna'), 0.9829067039747654), (('privata', 'före'), 0.9797266103764322), (('privata', 'ar'), 0.979534445545877), (('privatkapitalister', 'och'), 0.9787798470649166), (('sådana', 'privata'), 0.976171561011162), (('mycket', 'privat'), 0.9746061206842005), (('i', 'privatskoledödens'), 0.9717377090671335), (('privatsak', 'i'), 0.9717377090671335), (('var', 'privat'), 0.9716861526491797), (('privatskoledöd', 'som'), 0.9657665384786639), (('privata', 'svenska'), 0.9632004349486897), (('de', 'privatskolor'), 0.9602265670221716), (('från', 'privat'), 0.9583002317695335), (('privatskoledöd', 'och'), 0.9575596941298331), (('sig', 'privat'), 0.9555771155121544), (('privata', 'sedan'), 0.9549373472348184), (('del', 'privata'), 0.9548412648195408), (('i', 'privatsko'), 0.9434754181342669), (('privatskolorna', 'inte'), 0.9338742070271397), (('privatskolor', 'som'), 0.9315330769573277), (('som', 'privatskolor'), 0.9315330769573277), (('för', 'privata'), 0.9295258399332155), (('eller', 'privata'), 0.9245753040071054), (('privatskolorna', 'är'), 0.9126962366158368), (('privatskolorna', 'i'), 0.8021639634699345), (('och', 'privata'), 0.7990120868063569), (('att', 'privatskolorna'), 0.7755069519142663), (('för', 'privat'), 0.7659432363838329), (('privata', 'man'), 0.7617156101116196), (('av', 'privat'), 0.7281476950765964), (('och', 'privat'), 0.7029178589088318), (('på', 'privata'), 0.5473557416273549), (('är', 'privata'), 0.48864938589275797), (('privata', 'om'), 0.46741517211641437), (('privata', 'som'), 0.2982140388126088)]\n",
      "===DÉCÉNNIE=== 2\n",
      "[(('den', 'privata'), 2.135495330238233), (('privatperson', 'mot'), 1.7298922252029698), (('för', 'privatperson'), 1.7042741696843802), (('de', 'privatpraktiserande'), 1.6990935720062024), (('det', 'privata'), 1.5485065489957661), (('privatpraktiserande', 'läkarnas'), 1.4141818378209094), (('privatpraktiserande', 'läkarna'), 1.414150113268724), (('privata', 'näringslivet'), 1.412865268905213), (('ett', 'privat'), 1.3804445390467965), (('dold', 'privatfinansiering'), 0.9999975074837799), (('kad', 'privatbilism'), 0.9999900299351198), (('taxebundna', 'privatpraktiserande'), 0.9999850449026797), (('privat', 'kapitalistiska'), 0.9999800598702396), (('privat', 'bolagsstyrelse'), 0.9999800598702396), (('privat', 'praktiserande'), 0.9999800598702396), (('privatkapitalistiska', 'förlag'), 0.9999750748377995), (('privata', 'konsumtionsök'), 0.9999626122566992), (('privata', 'klinik'), 0.9999626122566992), (('privata', 'skolors'), 0.9999626122566992), (('privata', 'tidningsägarnas'), 0.9999626122566992), (('privata', 'ägandet'), 0.9999626122566992), (('vetssak', 'privata'), 0.9999626122566992), (('privata', 'alkoholkonsumtionen'), 0.9999626122566992), (('privat', 'byggnadsföretag'), 0.9999601197404792), (('fristående', 'privatpraktiserande'), 0.9999252245133985), (('bart', 'privatkapitalistiska'), 0.9999252245133985), (('privat', 'förlag'), 0.9999002993511981), (('utgående', 'privata'), 0.9998504490267971), (('privatpraktise', 'rande'), 0.9997881361212958), (('privatper', 'son'), 0.9997881361212958), (('ler', 'privatskolorna'), 0.9997731810239755), (('minst', 'privatpersoner'), 0.999698405537374), (('privata', 'konsumtionen'), 0.9996635103102933), (('privatpraktiserande', 'läkare'), 0.999596212372352), (('privatpraktiserande', 'lä'), 0.9995812572750317), (('privata', 'angelägenhet'), 0.9995513470803912), (('rent', 'privat'), 0.9991824546798238), (('beträffande', 'privatpraktikerna'), 0.9991425744203031), (('privatkapitalistiska', 'företag'), 0.9989631132524595), (('enda', 'privat'), 0.9986041909167724), (('privat', 'personer'), 0.9985244303977309), (('hos', 'privat'), 0.9974277232609091), (('egen', 'privata'), 0.9970089805359409), (('privata', 'sidan'), 0.9964855521297304), (('privat', 'företag'), 0.9958524530098379), (('vilket', 'privat'), 0.995553351063432), (('privata', 'stöd'), 0.9950648178843023), (('privata', 'gå'), 0.992821553286258), (('privatpraktikerna', 'så'), 0.9920339181607224), (('de', 'privatpraktise'), 0.9904860655880718), (('några', 'privata'), 0.9868769021014404), (('privatskolorna', 'en'), 0.985089767971665), (('för', 'privatper'), 0.9839631506402028), (('privatpersoner', 'som'), 0.9829187863440021), (('med', 'privatpraktikerna'), 0.982562356524535), (('privatpraktikerna', 'jag'), 0.9801595708884075), (('privatfinansiering', 'det'), 0.9788061345809208), (('privatbilism', 'och'), 0.978614210831977), (('eller', 'privata'), 0.9736790287162793), (('privata', 'han'), 0.9709871111986261), (('av', 'privatkapitalistiska'), 0.9615205345948789), (('de', 'privat'), 0.9238885247045745), (('till', 'privatpraktiserande'), 0.9176871443490918), (('en', 'privat'), 0.8807181437733206), (('privata', 'de'), 0.8572909838210772), (('de', 'privata'), 0.8572909838210772), (('privat', 'och'), 0.8289136866558159), (('till', 'privata'), 0.7942178608727296)]\n"
     ]
    }
   ],
   "source": [
    "for i, corpus in enumerate(c_t_scores_ordonnée_par_corpus):\n",
    "    print('===DÉCÉNNIE===', i + 1)\n",
    "    print(list(filter(lambda x: re.search(chaîne, x[0][0]) or re.search(chaîne, x[0][1]), corpus)))"
   ]
  },
  {
   "cell_type": "markdown",
   "metadata": {},
   "source": [
    "## Log du rapport de vraisemblance (log-likelihood-ration)"
   ]
  },
  {
   "cell_type": "markdown",
   "metadata": {},
   "source": [
    "Définition du rapport de vraisemblance"
   ]
  },
  {
   "cell_type": "code",
   "execution_count": 38,
   "metadata": {},
   "outputs": [],
   "source": [
    "def likelihood_ratio(words, freq_unigrams, freq_bigrams):\n",
    "    lr = {}\n",
    "    for bigram in freq_bigrams:\n",
    "        p = freq_unigrams[bigram[1]] / len(words)\n",
    "        p1 = freq_bigrams[bigram] / freq_unigrams[bigram[0]]\n",
    "        p2 = ((freq_unigrams[bigram[1]] - freq_bigrams[bigram])\n",
    "              / (len(words) - freq_unigrams[bigram[0]]))\n",
    "        if p1 != 1.0 and p2 != 0.0:\n",
    "            lr[bigram] = 2.0 * (\n",
    "                log_f(freq_bigrams[bigram],\n",
    "                      freq_unigrams[bigram[0]], p1) +\n",
    "                log_f(freq_unigrams[bigram[1]] -\n",
    "                      freq_bigrams[bigram],\n",
    "                      len(words) - freq_unigrams[bigram[0]], p2) -\n",
    "                log_f(freq_bigrams[bigram],\n",
    "                      freq_unigrams[bigram[0]], p) -\n",
    "                log_f(freq_unigrams[bigram[1]] -\n",
    "                      freq_bigrams[bigram],\n",
    "                      len(words) - freq_unigrams[bigram[0]], p))\n",
    "    return lr"
   ]
  },
  {
   "cell_type": "code",
   "execution_count": 39,
   "metadata": {},
   "outputs": [],
   "source": [
    "def log_f(k, N, p):\n",
    "    return k * log(p) + (N - k) * log(1 - p)"
   ]
  },
  {
   "cell_type": "markdown",
   "metadata": {},
   "source": [
    "On le calcule"
   ]
  },
  {
   "cell_type": "code",
   "execution_count": 40,
   "metadata": {},
   "outputs": [
    {
     "name": "stdout",
     "output_type": "stream",
     "text": [
      "===DÉCÉNNIE=== 1\n",
      "   [(('herr', 'talman'), 8694.871035066868), (('m', 'fl'), 7225.906531749281), (('kungl', 'maj'), 5557.287718331205), (('det', 'är'), 5479.902051361183), (('januari', '1970'), 4663.24091213827), (('onsdagen', 'den'), 3882.0824284229966), (('av', 'herr'), 3524.7125182654563), (('fl', 'om'), 2865.558020215918), (('februari', '1970'), 2749.880759729469), (('torsdagen', 'den'), 2530.631384813787)]\n",
      "===DÉCÉNNIE=== 2\n",
      "   [(('herr', 'talman'), 7797.323418918478), (('kungl', 'maj'), 6752.249697816897), (('m', 'fl'), 5137.393504257348), (('det', 'är'), 5137.238280022044), (('av', 'herr'), 4397.139079072011), (('onsdagen', 'den'), 4058.9614381480496), (('januari', '1970'), 3830.29967836008), (('m', 'm'), 3635.7638672764297), (('maj', 't'), 2427.5884790459513), (('anledning', 'av'), 2339.596565733067)]\n"
     ]
    }
   ],
   "source": [
    "c_lr_ordonné_par_corpus = []\n",
    "c_lr_par_corpus = []\n",
    "for i, texte_découpé, c_mots, c_bigrammes in zip(range(len(textes)), \n",
    "                                  textes_découpés,\n",
    "                                  c_mots_par_corpus, \n",
    "                                  c_bigrammes_par_corpus):\n",
    "    #print(fichiers[i])\n",
    "    print('===DÉCÉNNIE===', i + 1)\n",
    "    c_lr = likelihood_ratio(texte_découpé, c_mots, c_bigrammes)\n",
    "    c_lr_par_corpus += [c_lr]\n",
    "    c_lr_ordonné = sorted(c_lr.items(), \n",
    "                                      key=operator.itemgetter(1), reverse=True)\n",
    "    print('  ', c_lr_ordonné[:10])\n",
    "    c_lr_ordonné_par_corpus += [c_lr_ordonné]"
   ]
  },
  {
   "cell_type": "markdown",
   "metadata": {},
   "source": [
    "Les bigrammes avec la séquence qu'on recherche ordonnés par rapports de vraisemblance"
   ]
  },
  {
   "cell_type": "code",
   "execution_count": 41,
   "metadata": {},
   "outputs": [
    {
     "name": "stdout",
     "output_type": "stream",
     "text": [
      "===DÉCÉNNIE=== 1\n",
      "[(('den', 'privata'), 46.567300005693255), (('privata', 'eller'), 41.61468580585097), (('privat', 'företagsamhet'), 28.813767613814605), (('privata', 'stiftelser'), 26.288753800682343), (('privatsko', 'lorna'), 22.382577517049288), (('privata', 'sparandet'), 21.125011972708762), (('intressen', 'privata'), 19.78184401128908), (('privata', 'näringslivet'), 19.641829969483297), (('det', 'privata'), 18.51533092497084), (('privat', 'kapitalister'), 17.950300548497648), (('mot', 'privatskolorna'), 17.680092107387352), (('privat', 'företagar'), 16.903865192626817), (('nadsverksamheten', 'privata'), 15.752795899059834), (('privata', 'kapitalbildningen'), 15.752795898929719), (('privat', 'regi'), 15.719047830663996), (('privat', 'sektor'), 14.98156547422954), (('privata', 'intressenter'), 14.706487099293348), (('privata', 'företag'), 14.267187680684856), (('bedriva', 'privat'), 14.221717259757554), (('privata', 'konsumtionen'), 14.0270784402544), (('privat', 'eller'), 13.758683788824783), (('delen', 'privatskolor'), 13.625846814465078), (('privat', 'bolag'), 13.518698524170873), (('tressen', 'privata'), 13.119400068584127), (('underlätta', 'privat'), 12.783376327558074), (('privatskolorna', 'hör'), 12.596422953434853), (('privat', 'skolor'), 12.497302879342271), (('jämväl', 'privata'), 12.247719319691328), (('privat', 'spe'), 12.247122934820368), (('privat', 'initiativ'), 11.701822535625524), (('sådan', 'privatskoledöd'), 11.592110424406687), (('begreppet', 'privata'), 11.476523311825986), (('de', 'privata'), 11.414738939377685), (('svenska', 'privatsko'), 11.263496037273324), (('privatskolorna', 'des'), 11.177963534056062), (('privata', 'lokalise'), 11.046676411341537), (('privata', 'kapitalet'), 10.80425489193658), (('privata', 'intres'), 10.588149734453907), (('privata', 'företagsamheten'), 10.488295521866974), (('privat', 'kapital'), 10.362708319829153), (('antalet', 'privat'), 10.132721324245153), (('privata', 'ekono'), 9.631118344393713), (('privatskolor', 'na'), 9.620785676753258), (('privata', 'industrin'), 9.449723319303189), (('ett', 'privat'), 9.189344576419217), (('denna', 'privatskoledöd'), 9.075084423737767), (('till', 'privatskolorna'), 8.8926807757083), (('privatskolor', 'i'), 8.834711184899788), (('gäller', 'privatskolor'), 8.685576311455037), (('alltså', 'privatskolorna'), 8.36146247427871), (('såväl', 'privata'), 8.055498538132952), (('med', 'privata'), 7.992661442068766), (('privata', 'området'), 7.917489147066817), (('privatskolorna', 'bör'), 7.866580257383248), (('större', 'privat'), 7.438673135729971), (('privata', 'företagen'), 7.265375191308522), (('privata', 'kon'), 7.135799157834299), (('privatskolorna', 'dessa'), 6.6011773833579355), (('privata', 'ekonomiska'), 6.551783901972158), (('också', 'privatskolorna'), 6.31859808734967), (('privata', 'och'), 6.19609980811947), (('privata', 'före'), 5.865609693330953), (('privata', 'ar'), 5.847072147310882), (('sådana', 'privata'), 5.548700055192853), (('mycket', 'privat'), 5.468119810920086), (('privatskoledöd', 'som'), 5.397468809984275), (('var', 'privat'), 5.255734128245365), (('privatskoledöd', 'och'), 4.9760196899442235), (('de', 'privatskolor'), 4.7831980205105395), (('privata', 'svenska'), 4.703392551235083), (('från', 'privat'), 4.50599502681348), (('i', 'privatsko'), 4.417279629127908), (('sig', 'privat'), 4.384501304603418), (('privata', 'sedan'), 4.313917431844857), (('del', 'privata'), 4.309840729579264), (('privatskolor', 'som'), 3.7404269893304445), (('som', 'privatskolor'), 3.740426989321307), (('privatskolorna', 'inte'), 3.6967003940226277), (('eller', 'privata'), 3.3422292228766537), (('privatskolorna', 'är'), 3.1776784974426846), (('privatskolorna', 'i'), 1.7349124216998462), (('för', 'privata'), 1.6977839962657981), (('att', 'privatskolorna'), 1.5292098223824837), (('för', 'privat'), 1.4160109874054), (('privata', 'man'), 1.3597086654117447), (('av', 'privat'), 1.1880854305947537), (('och', 'privata'), 1.1018333821082251), (('och', 'privat'), 1.0584036577051847), (('på', 'privata'), 0.49807268158110674), (('är', 'privata'), 0.3700675289431956), (('privata', 'om'), 0.3306555234157713), (('privata', 'som'), 0.11405025310523342)]\n",
      "===DÉCÉNNIE=== 2\n",
      "[(('privatpraktiserande', 'läkarnas'), 41.379037529124176), (('privatpraktiserande', 'läkarna'), 37.56001234065583), (('privata', 'näringslivet'), 24.18397772736364), (('den', 'privata'), 23.212606764699643), (('privatkapitalistiska', 'förlag'), 20.027840145276016), (('de', 'privatpraktiserande'), 19.671868776187154), (('privat', 'byggnadsföretag'), 19.00355675597507), (('bart', 'privatkapitalistiska'), 17.684013428481244), (('fristående', 'privatpraktiserande'), 17.393774122923645), (('privat', 'förlag'), 16.772225930325433), (('utgående', 'privata'), 15.958060578223353), (('privata', 'konsumtionen'), 14.178112973948743), (('privatpraktiserande', 'läkare'), 13.844175950081308), (('privatpraktiserande', 'lä'), 13.770109858538149), (('privata', 'angelägenhet'), 13.573236486348037), (('beträffande', 'privatpraktikerna'), 12.743533365916399), (('rent', 'privat'), 12.37495333623275), (('privatkapitalistiska', 'företag'), 12.3626158684433), (('ett', 'privat'), 11.56040590201809), (('enda', 'privat'), 11.295882334803878), (('privat', 'personer'), 11.184102807921818), (('hos', 'privat'), 10.068725172474899), (('egen', 'privata'), 9.710545599576278), (('privata', 'sidan'), 9.387110412651964), (('privat', 'företag'), 9.11307509585913), (('vilket', 'privat'), 8.974007034009986), (('privata', 'stöd'), 8.707667699530248), (('det', 'privata'), 8.627173099719357), (('privatpraktikerna', 'så'), 8.287431114164065), (('privata', 'gå'), 7.960092430606892), (('några', 'privata'), 6.762249431590988), (('med', 'privatpraktikerna'), 6.729746177128753), (('privatpraktikerna', 'jag'), 6.473956056572206), (('eller', 'privata'), 5.393503478524451), (('privata', 'han'), 5.203657522719368), (('av', 'privatkapitalistiska'), 5.167943308605224), (('de', 'privat'), 3.4157314973353436), (('till', 'privatpraktiserande'), 3.3095333529292077), (('en', 'privat'), 2.593539332230364), (('de', 'privata'), 2.2299546310119354), (('privata', 'de'), 2.229954630958673), (('privat', 'och'), 1.9644654266739963), (('till', 'privata'), 1.6169761892757606)]\n"
     ]
    }
   ],
   "source": [
    "for i, corpus in enumerate(c_lr_ordonné_par_corpus):\n",
    "    print('===DÉCÉNNIE===', i + 1)\n",
    "    print(list(filter(lambda x: re.search(chaîne, x[0][0]) or re.search(chaîne, x[0][1]), corpus)))"
   ]
  },
  {
   "cell_type": "code",
   "execution_count": null,
   "metadata": {},
   "outputs": [],
   "source": []
  }
 ],
 "metadata": {
  "kernelspec": {
   "display_name": "Python 3",
   "language": "python",
   "name": "python3"
  },
  "language_info": {
   "codemirror_mode": {
    "name": "ipython",
    "version": 3
   },
   "file_extension": ".py",
   "mimetype": "text/x-python",
   "name": "python",
   "nbconvert_exporter": "python",
   "pygments_lexer": "ipython3",
   "version": "3.7.7"
  }
 },
 "nbformat": 4,
 "nbformat_minor": 4
}
